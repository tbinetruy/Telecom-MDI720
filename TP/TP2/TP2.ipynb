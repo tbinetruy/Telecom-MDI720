{
 "cells": [
  {
   "cell_type": "markdown",
   "metadata": {
    "ein.tags": "worksheet-0",
    "slideshow": {
     "slide_type": "-"
    }
   },
   "source": [
    "# Definition du modele\n",
    "  \n",
    "Nous nous plaçons dans un modèle *fixed design homoscedastic*. En effet, l'hétérogénéité de nos variables explicatives (les /GNP/) est constante sur le temps. En d'autres termes, les GNP ne vont pas changer dans les prochains mois, ou de façon insignifiante. De plus, les variables aleatoires de bruits $\\epsilon_i$ sont toutes distribuees aleatoirement:\n",
    "\n",
    "$Y = X\\Theta + \\epsilon$\n",
    "\n",
    "tel que $X$ contient le vecteur $1_n$ comme première colonne et $\\epsilon$ une variable aleatoire *i.i.d*:\n",
    "\n",
    "$E[\\epsilon_i] = 0$\n",
    "\n",
    "$Var[\\epsilon_i] = \\sigma^2I_n$\n",
    "\n",
    "The $\\hat{\\theta}$ estimator for our model can be shown to be:\n",
    "\n",
    "$\\hat{\\theta} = (X^TX)^{-1}X^TY$\n"
   ]
  },
  {
   "cell_type": "code",
   "execution_count": 1,
   "metadata": {
    "autoscroll": false,
    "ein.hycell": false,
    "ein.tags": "worksheet-0",
    "slideshow": {
     "slide_type": "-"
    }
   },
   "outputs": [
    {
     "data": {
      "text/html": [
       "<div>\n",
       "<style scoped>\n",
       "    .dataframe tbody tr th:only-of-type {\n",
       "        vertical-align: middle;\n",
       "    }\n",
       "\n",
       "    .dataframe tbody tr th {\n",
       "        vertical-align: top;\n",
       "    }\n",
       "\n",
       "    .dataframe thead th {\n",
       "        text-align: right;\n",
       "    }\n",
       "</style>\n",
       "<table border=\"1\" class=\"dataframe\">\n",
       "  <thead>\n",
       "    <tr style=\"text-align: right;\">\n",
       "      <th></th>\n",
       "      <th>year</th>\n",
       "      <th>gnp</th>\n",
       "      <th>invest</th>\n",
       "      <th>cpi</th>\n",
       "      <th>interest</th>\n",
       "    </tr>\n",
       "  </thead>\n",
       "  <tbody>\n",
       "    <tr>\n",
       "      <th>0</th>\n",
       "      <td>1968</td>\n",
       "      <td>873.4</td>\n",
       "      <td>133.3</td>\n",
       "      <td>82.54</td>\n",
       "      <td>5.16</td>\n",
       "    </tr>\n",
       "    <tr>\n",
       "      <th>1</th>\n",
       "      <td>1969</td>\n",
       "      <td>944.0</td>\n",
       "      <td>149.3</td>\n",
       "      <td>86.79</td>\n",
       "      <td>5.87</td>\n",
       "    </tr>\n",
       "    <tr>\n",
       "      <th>2</th>\n",
       "      <td>1970</td>\n",
       "      <td>992.7</td>\n",
       "      <td>144.2</td>\n",
       "      <td>91.45</td>\n",
       "      <td>5.95</td>\n",
       "    </tr>\n",
       "    <tr>\n",
       "      <th>3</th>\n",
       "      <td>1971</td>\n",
       "      <td>1077.6</td>\n",
       "      <td>166.4</td>\n",
       "      <td>96.01</td>\n",
       "      <td>4.88</td>\n",
       "    </tr>\n",
       "    <tr>\n",
       "      <th>4</th>\n",
       "      <td>1972</td>\n",
       "      <td>1185.9</td>\n",
       "      <td>195.0</td>\n",
       "      <td>100.00</td>\n",
       "      <td>4.50</td>\n",
       "    </tr>\n",
       "    <tr>\n",
       "      <th>5</th>\n",
       "      <td>1973</td>\n",
       "      <td>1326.4</td>\n",
       "      <td>229.8</td>\n",
       "      <td>105.75</td>\n",
       "      <td>6.44</td>\n",
       "    </tr>\n",
       "    <tr>\n",
       "      <th>6</th>\n",
       "      <td>1974</td>\n",
       "      <td>1434.2</td>\n",
       "      <td>228.7</td>\n",
       "      <td>115.08</td>\n",
       "      <td>7.83</td>\n",
       "    </tr>\n",
       "    <tr>\n",
       "      <th>7</th>\n",
       "      <td>1975</td>\n",
       "      <td>1549.2</td>\n",
       "      <td>206.1</td>\n",
       "      <td>125.79</td>\n",
       "      <td>6.25</td>\n",
       "    </tr>\n",
       "    <tr>\n",
       "      <th>8</th>\n",
       "      <td>1976</td>\n",
       "      <td>1718.0</td>\n",
       "      <td>257.9</td>\n",
       "      <td>132.34</td>\n",
       "      <td>5.50</td>\n",
       "    </tr>\n",
       "    <tr>\n",
       "      <th>9</th>\n",
       "      <td>1977</td>\n",
       "      <td>1918.3</td>\n",
       "      <td>324.1</td>\n",
       "      <td>140.05</td>\n",
       "      <td>5.46</td>\n",
       "    </tr>\n",
       "    <tr>\n",
       "      <th>10</th>\n",
       "      <td>1978</td>\n",
       "      <td>2163.9</td>\n",
       "      <td>386.6</td>\n",
       "      <td>150.42</td>\n",
       "      <td>7.46</td>\n",
       "    </tr>\n",
       "    <tr>\n",
       "      <th>11</th>\n",
       "      <td>1979</td>\n",
       "      <td>2417.8</td>\n",
       "      <td>423.0</td>\n",
       "      <td>163.42</td>\n",
       "      <td>10.28</td>\n",
       "    </tr>\n",
       "    <tr>\n",
       "      <th>12</th>\n",
       "      <td>1980</td>\n",
       "      <td>2633.1</td>\n",
       "      <td>402.3</td>\n",
       "      <td>178.64</td>\n",
       "      <td>11.77</td>\n",
       "    </tr>\n",
       "    <tr>\n",
       "      <th>13</th>\n",
       "      <td>1981</td>\n",
       "      <td>2937.7</td>\n",
       "      <td>471.5</td>\n",
       "      <td>195.51</td>\n",
       "      <td>13.42</td>\n",
       "    </tr>\n",
       "    <tr>\n",
       "      <th>14</th>\n",
       "      <td>1982</td>\n",
       "      <td>3057.5</td>\n",
       "      <td>421.9</td>\n",
       "      <td>207.23</td>\n",
       "      <td>11.02</td>\n",
       "    </tr>\n",
       "  </tbody>\n",
       "</table>\n",
       "</div>"
      ],
      "text/plain": [
       "    year     gnp  invest     cpi  interest\n",
       "0   1968   873.4   133.3   82.54      5.16\n",
       "1   1969   944.0   149.3   86.79      5.87\n",
       "2   1970   992.7   144.2   91.45      5.95\n",
       "3   1971  1077.6   166.4   96.01      4.88\n",
       "4   1972  1185.9   195.0  100.00      4.50\n",
       "5   1973  1326.4   229.8  105.75      6.44\n",
       "6   1974  1434.2   228.7  115.08      7.83\n",
       "7   1975  1549.2   206.1  125.79      6.25\n",
       "8   1976  1718.0   257.9  132.34      5.50\n",
       "9   1977  1918.3   324.1  140.05      5.46\n",
       "10  1978  2163.9   386.6  150.42      7.46\n",
       "11  1979  2417.8   423.0  163.42     10.28\n",
       "12  1980  2633.1   402.3  178.64     11.77\n",
       "13  1981  2937.7   471.5  195.51     13.42\n",
       "14  1982  3057.5   421.9  207.23     11.02"
      ]
     },
     "metadata": {},
     "output_type": "display_data"
    }
   ],
   "source": [
    "import numpy as np\n",
    "import pandas as pd\n",
    "import matplotlib.pyplot as plt\n",
    "import math\n",
    "import scipy.stats\n",
    "from numpy.linalg import inv\n",
    "\n",
    "def import_data():\n",
    "    df = pd.read_csv('invest.txt', delimiter=\" \")\n",
    "    return df\n",
    "\n",
    "df = import_data()\n",
    "display(df)"
   ]
  },
  {
   "cell_type": "code",
   "execution_count": 2,
   "metadata": {
    "autoscroll": false,
    "ein.hycell": false,
    "ein.tags": "worksheet-0",
    "slideshow": {
     "slide_type": "-"
    }
   },
   "outputs": [
    {
     "data": {
      "image/png": "[encoded data removed]",
      "text/plain": [
       "<Figure size 432x288 with 1 Axes>"
      ]
     },
     "metadata": {
      "needs_background": "light"
     },
     "output_type": "display_data"
    },
    {
     "name": "stdout",
     "output_type": "stream",
     "text": [
      "0     6.772394\n",
      "1     6.850126\n",
      "2     6.900429\n",
      "3     6.982492\n",
      "4     7.078257\n",
      "5     7.190224\n",
      "6     7.268362\n",
      "7     7.345494\n",
      "8     7.448916\n",
      "9     7.559195\n",
      "10    7.679667\n",
      "11    7.790613\n",
      "12    7.875917\n",
      "13    7.985382\n",
      "14    8.025353\n",
      "Name: gnp, dtype: float64\n"
     ]
    }
   ],
   "source": [
    "def log_scale(vect):\n",
    "    return np.log(vect)\n",
    "\n",
    "def normalize_df(data):\n",
    "    data[\"gnp\"] = log_scale(data[\"gnp\"])\n",
    "    data[\"invest\"] = log_scale(data[\"invest\"])\n",
    "\n",
    "def plot_gnp_vs_invest(data):\n",
    "    gnp = data[\"gnp\"]\n",
    "    invest = data[\"invest\"]\n",
    "    plt.figure()\n",
    "    plt.plot(gnp, invest, color='blue', label='Y', marker='.', linestyle = 'None')\n",
    "    plt.ylabel('Invest', fontsize=18)\n",
    "    plt.xlabel('GNP', fontsize=18)\n",
    "    plt.title(\"GNP vs Invest\")\n",
    "    plt.legend()\n",
    "    plt.show()\n",
    "\n",
    "normalize_df(df)\n",
    "plot_gnp_vs_invest(df)\n",
    "print(df[\"gnp\"])"
   ]
  },
  {
   "cell_type": "code",
   "execution_count": 3,
   "metadata": {
    "autoscroll": false,
    "ein.hycell": false,
    "ein.tags": "worksheet-0",
    "slideshow": {
     "slide_type": "-"
    }
   },
   "outputs": [
    {
     "name": "stdout",
     "output_type": "stream",
     "text": [
      "Theta_hat: [[-1.96359134  1.0152814 ]]\n"
     ]
    }
   ],
   "source": [
    "def get_theta_hat(X, Y):\n",
    "    G = inv(X.T@X)\n",
    "    theta_hat = G@X.T@Y\n",
    "    \n",
    "    return theta_hat\n",
    "\n",
    "X_tild = df[\"gnp\"]\n",
    "X = [[1, X_tild[i]] for i in range(0, len(X_tild))]\n",
    "X = np.matrix(X)\n",
    "Y = df[\"invest\"]\n",
    "Y = np.matrix(Y).T\n",
    "theta_hat = get_theta_hat(X, Y)\n",
    "print(\"Theta_hat:\", theta_hat.T)\n"
   ]
  },
  {
   "cell_type": "markdown",
   "metadata": {
    "ein.tags": "worksheet-0",
    "slideshow": {
     "slide_type": "-"
    }
   },
   "source": [
    "Puisque nous avons $rank(X) < p$, un estimateur sans biais de la variance du bruit peut etre definit comme:\n",
    "\n",
    "$\\hat{\\sigma}^2 = \\frac{||y - X\\hat{\\theta}||^2}{n - rank(X)}$\n",
    "\n",
    "Ce qui permet de calculer la matrice de covariance de nos estimateurs:\n",
    "\n",
    "$Cov(\\hat{\\theta}) = (X^TX)^{-1}\\hat{\\sigma}^2$\n",
    "\n",
    "Et donc leur variances:\n",
    "\n",
    "$\\hat{\\sigma}_{\\hat{\\theta}_0} = \\sqrt{Cov(\\hat{\\theta})_{00}}$\n",
    "\n",
    "$\\hat{\\sigma}_{\\hat{\\theta}_1} = \\sqrt{Cov(\\hat{\\theta})_{11}}$\n",
    "\n",
    "\n",
    "Le coefficient de determination est le ratio de la variance *expliquée* et la variance *totale*, peut etre calculée de la maniere suivante:\n",
    "\n",
    "$R^2 = \\frac{\\sum_{i=1}^n{(\\hat{Y}_i - \\bar{Y})^2}}{\\sum_{i=1}^n{(Y_i - \\bar{Y})^2}}$"
   ]
  },
  {
   "cell_type": "code",
   "execution_count": 4,
   "metadata": {
    "autoscroll": false,
    "ein.hycell": false,
    "ein.tags": "worksheet-0",
    "slideshow": {
     "slide_type": "-"
    }
   },
   "outputs": [
    {
     "name": "stdout",
     "output_type": "stream",
     "text": [
      "R2: [[0.9627573]]\n",
      "[[ 15.         110.75282116]\n",
      " [110.75282116 820.24847688]]\n",
      "0.007676338555460441\n",
      "Var(thetaHat0): 0.4095472716623457\n",
      "Var(thetaHat1): 0.05538306035485789\n"
     ]
    }
   ],
   "source": [
    "def get_Y_bar(Y):\n",
    "    return sum(Y) / len(Y)\n",
    "\n",
    "def get_Y_hat(X, theta_hat):\n",
    "    return X@theta_hat\n",
    "\n",
    "def get_R2(Y):\n",
    "    Y_bar = get_Y_bar(Y)\n",
    "    Y_hat = get_Y_hat(X, theta_hat)\n",
    "    SS_tot = sum([(Y[i] - Y_bar)**2 for i in range(0, len(Y))])\n",
    "    SS_reg = sum([(Y_hat[i] - Y_bar)**2 for i in range(0, len(Y))])\n",
    "    return SS_reg / SS_tot\n",
    "\n",
    "R2 = get_R2(Y)\n",
    "print(\"R2:\", R2)\n",
    "\n",
    "def get_sig2(X, Y):\n",
    "    theta_hat = get_theta_hat(X, Y)\n",
    "    Y_hat = get_Y_hat(X, theta_hat)\n",
    "    return sum([(Y_hat[i] - Y[i])**2 for i in range(0, len(Y))]) / (len(Y) - 2)\n",
    "\n",
    "def get_estimator_covariance_mat(X, Y):\n",
    "    sig2 = get_sig2(X, Y).item()\n",
    "    return sig2 * inv(X.T@X)\n",
    "\n",
    "# unbiased estimator when X is full rank with rank(X) < n which is the case here (rank(X) = 2 and n = len(Y)\n",
    "print(X.T@X)\n",
    "print(get_sig2(X, Y)[0, 0])\n",
    "sigHat_theta1Hat = get_sig2(X, Y)[0, 0] * inv(X.T@X)\n",
    "var_thetaHat0 = math.sqrt(sigHat_theta1Hat[0, 0])\n",
    "var_thetaHat1 = math.sqrt(sigHat_theta1Hat[1, 1])\n",
    "print(\"Var(thetaHat0):\", var_thetaHat0)\n",
    "print(\"Var(thetaHat1):\", var_thetaHat1)\n"
   ]
  },
  {
   "cell_type": "markdown",
   "metadata": {
    "autoscroll": false,
    "ein.hycell": false,
    "ein.tags": "worksheet-0",
    "slideshow": {
     "slide_type": "-"
    }
   },
   "source": [
    "# Question 4\n",
    "\n",
    "Nous allons maintenant realiser un test de Student sur nos estimateurs pour tester leur nullité. Nos hypothèses nulles sont  donc:\n",
    "\n",
    "$H_0: \\theta^*_j = 0$, ce qui revient a prendre $\\Theta_0 = \\{\\theta \\in \\mathbb{R}^p: \\theta_j = 0\\}$\n",
    "\n",
    "Le test de Student consiste à rejeter $H_0$ au niveau $\\alpha$ si $|T_j| > t_{1-\\alpha/2}$ pour:\n",
    "\n",
    "$T_j := \\frac{\\hat{\\theta}_j - \\theta^*_j}{\\hat{\\sigma}\\sqrt{({X^TX)^{-1}_{jj}}}} \\sim \\mathcal{T}_{n - rank(X)}$\n",
    "\n",
    "$t_{1-\\alpha/2}$ un quantile d'ordre $1 - \\alpha / 2$ de la loi de Student de degré $n - rank(X)$, $\\mathcal{T}_{n - rank(X)}$\n",
    "\n",
    "Et $\\theta^*_j$ nulle par hypothèse. Le test de Student est donc la division de notre estimateur par l'estimation de sa variance.\n",
    "\n",
    "Les **p-valeurs** sont les plus petits $\\alpha$ tel que $0 \\in IC_\\alpha$."
   ]
  },
  {
   "cell_type": "code",
   "execution_count": 5,
   "metadata": {
    "autoscroll": false,
    "ein.hycell": false,
    "ein.tags": "worksheet-0",
    "scrolled": true,
    "slideshow": {
     "slide_type": "-"
    }
   },
   "outputs": [
    {
     "name": "stdout",
     "output_type": "stream",
     "text": [
      "T0: [[-4.79454137]]\n",
      "T1: [[18.33198446]]\n",
      "alpha1: 8e-11\n",
      "t_{1-alpha1/2}: 18.851491095901718  >  [[18.33198446]]\n",
      "%: 99.999999996\n",
      "alpha0: 9.79e-06\n",
      "t_{1-alpha0/2}: 6.968608818638874  >  [[4.79454137]]\n",
      "%: 99.999999996\n"
     ]
    }
   ],
   "source": [
    "def rank(X):\n",
    "    return np.linalg.matrix_rank(X)\n",
    "\n",
    "def get_theta_hat(X, Y):\n",
    "    theta_hat = inv(X.T@X)@X.T@Y\n",
    "    \n",
    "    return theta_hat\n",
    "\n",
    "def student_test_i(X, Y, i):\n",
    "    theta_hat = get_theta_hat(X, Y)\n",
    "    var_thetaHat = get_estimator_covariance_mat(X, Y)\n",
    "    return theta_hat[i] / math.sqrt(var_thetaHat[i,i])\n",
    "\n",
    "def student_test(X, Y):\n",
    "    return [student_test_i(X, Y, i) for i in range(0, rank(X))]\n",
    "\n",
    "T = student_test(X, Y) # theta_hat[0] / var_thetaHat0\n",
    "print(\"T0:\", T[0])\n",
    "print(\"T1:\", T[1])\n",
    "\n",
    "n = len(Y)\n",
    "#t = scipy.stats.t(df=(len(Y) - rankX)).ppf((1 - alpha / 2))\n",
    "\n",
    "def get_students_quantile(deg, level):\n",
    "    return scipy.stats.t(df=deg).ppf(level)\n",
    "\n",
    "from scipy import stats\n",
    "alpha1 = .00000000008\n",
    "t1 = get_students_quantile(n - rank(X), 1 - alpha1 / 2)\n",
    "print(\"alpha1:\", alpha1)\n",
    "print(\"t_{1-alpha1/2}:\", t1, \" > \", abs(T[1]))\n",
    "print(\"%:\", (1 - alpha1 / 2) * 100)\n",
    "\n",
    "alpha0 = 0.00000979\n",
    "t0 = get_students_quantile(n - rank(X), 1 - alpha0 / 2)\n",
    "print(\"alpha0:\", alpha0)\n",
    "print(\"t_{1-alpha0/2}:\", t0, \" > \", abs(T[0]))\n",
    "print(\"%:\", (1 - alpha1 / 2)*100)"
   ]
  },
  {
   "cell_type": "markdown",
   "metadata": {
    "ein.tags": "worksheet-0",
    "slideshow": {
     "slide_type": "-"
    }
   },
   "source": [
    "Nos pouvons donc rejeter nos $H_0$, c'est à dire la nullité de nos coéfficients, à plus de 99.999%.\n",
    "\n",
    "\n",
    "# Question 5\n",
    "\n",
    "## Interval de confiance de notre resultat\n",
    "\n",
    "Dans le modèle Gaussien, nous trouvons l'intervale de confiance de niveau $1 - \\alpha$ suivant (pour $X^TX$ inversible):\n",
    "\n",
    "$IC_\\alpha(x) := \\left[\n",
    "x^T\\hat{\\theta} - t_{1-\\alpha/2} \\hat{\\sigma} \\sqrt{x^T(X^TX)^{-1}x},\n",
    "x^T\\hat{\\theta}_j + t_{1-\\alpha/2} \\hat{\\sigma} \\sqrt{x^T(X^TX)^{-1}x},\n",
    "\\right]$\n",
    "\n",
    "Où, avec une probabilité égale à $1 - \\alpha$, $y^* \\in CI(x)$ pour $y^* = x^T\\theta^*$ et $x = (1, x_1, ..., x_p) \\in \\mathbb{R}^p$. Ici, nous sommes evidemment dans le cas où $x = (1, x_1) = (1, \\log_e 1000)$."
   ]
  },
  {
   "cell_type": "code",
   "execution_count": 6,
   "metadata": {
    "autoscroll": false,
    "ein.hycell": false,
    "ein.tags": "worksheet-0",
    "slideshow": {
     "slide_type": "-"
    }
   },
   "outputs": [
    {
     "name": "stdout",
     "output_type": "stream",
     "text": [
      "pred: 5.049724126316767\n",
      "IC_pred @ alpha =  0.1 : [4.988222845971073, 5.111225406662461]\n"
     ]
    }
   ],
   "source": [
    "def get_ypred(x, X, Y):\n",
    "    theta_hat = get_theta_hat(X, Y)\n",
    "    return (x.T@theta_hat)[0, 0]\n",
    "\n",
    "def get_IC_ystar(x, X, Y, alpha):\n",
    "    n = len(Y)\n",
    "    t = get_students_quantile(n - rank(X), 1 - alpha / 2)\n",
    "    theta_hat = get_theta_hat(X, Y)\n",
    "    delta = t * math.sqrt(get_sig2(X, Y) * x.T@inv(X.T@X)@x)\n",
    "    IC_low_pred = x.T@theta_hat - delta\n",
    "    IC_high_pred = x.T@theta_hat + delta\n",
    "    return [IC_low_pred[0, 0], IC_high_pred[0, 0]]\n",
    "\n",
    "alpha = 0.1\n",
    "x = np.matrix([[1, np.log(1000)]]).T\n",
    "ypred = get_ypred(x, X, Y)\n",
    "IC_ystar = get_IC_ystar(x, X, Y, alpha)\n",
    "print(\"pred:\", ypred)\n",
    "print(\"IC_pred @ alpha = \", alpha, \":\", IC_ystar)"
   ]
  },
  {
   "cell_type": "markdown",
   "metadata": {
    "ein.tags": "worksheet-0",
    "slideshow": {
     "slide_type": "-"
    }
   },
   "source": [
    "### intervale de prédiction\n",
    "\n",
    "Il est aussi possible de construire un intervale non plus autour de $y^*$ mais de $y$. En effet, nous avons $y = y^* + \\epsilon$ avec $\\epsilon \\sim \\mathcal{N}(0, \\sigma^2)$, donc:\n",
    "\n",
    "$IP_\\alpha(x) := \\left[\n",
    "x^T\\hat{\\theta} - t_{1-\\alpha/2} \\hat{\\sigma} \\sqrt{1 + x^T(X^TX)^{-1}_{jj}x},\n",
    "x^T\\hat{\\theta}_j + t_{1-\\alpha/2} \\hat{\\sigma} \\sqrt{1 + x^T(X^TX)^{-1}_{jj}x},\n",
    "\\right]$\n",
    "\n",
    "Pour $y \\in IP(x)$."
   ]
  },
  {
   "cell_type": "code",
   "execution_count": 7,
   "metadata": {
    "autoscroll": false,
    "ein.hycell": false,
    "ein.tags": "worksheet-0",
    "slideshow": {
     "slide_type": "-"
    }
   },
   "outputs": [
    {
     "name": "stdout",
     "output_type": "stream",
     "text": [
      "IP_pred @ alpha =  0.1 : [4.8828200234386445, 5.21662822919489]\n"
     ]
    }
   ],
   "source": [
    "def get_IP_y(x, X, Y, alpha):\n",
    "    n = len(Y)\n",
    "    t = get_students_quantile(n - rank(X), 1 - alpha / 2)\n",
    "    theta_hat = get_theta_hat(X, Y)\n",
    "    delta = t * math.sqrt(get_sig2(X, Y) * (1 + x.T@inv(X.T@X)@x))\n",
    "    IP_low_pred = x.T@theta_hat - delta\n",
    "    IP_high_pred = x.T@theta_hat + delta\n",
    "    return [IP_low_pred[0, 0], IP_high_pred[0, 0]]\n",
    "\n",
    "IP_y = get_IP_y(x, X, Y, alpha)\n",
    "print(\"IP_pred @ alpha = \", alpha, \":\", IP_y)"
   ]
  },
  {
   "cell_type": "markdown",
   "metadata": {
    "ein.tags": "worksheet-0",
    "slideshow": {
     "slide_type": "-"
    }
   },
   "source": [
    "### Interval de confiance de l'éstimateur (hors TP)\n",
    "\n",
    "Un interval de confiance de niveau $\\alpha$ de nos estimateurs pour le modèle gaussien peut etre définie par:\n",
    "\n",
    "$IC_\\alpha(\\hat{\\theta}_j) := \\left[\n",
    "\\hat{\\theta}_j - t_{1-\\alpha/2} \\hat{\\sigma} \\sqrt{(X^TX)^{-1}_{jj}},\n",
    "\\hat{\\theta}_j + t_{1-\\alpha/2} \\hat{\\sigma} \\sqrt{(X^TX)^{-1}_{jj}},\n",
    "\\right]$"
   ]
  },
  {
   "cell_type": "code",
   "execution_count": 8,
   "metadata": {
    "autoscroll": false,
    "ein.hycell": false,
    "ein.tags": "worksheet-0",
    "slideshow": {
     "slide_type": "-"
    }
   },
   "outputs": [
    {
     "name": "stdout",
     "output_type": "stream",
     "text": [
      "IC_thetaHat[0, 1] @ alpha =  0.05 : [[-2.8483644242693678, -1.0788182461924571], [0.8956335739094482, 1.1349292292884952]]\n"
     ]
    }
   ],
   "source": [
    "# return [[IC_theta0, ..., IC_theta_rank(X)]]\n",
    "# with IC_theta_p = [IC_low, IC_up]\n",
    "def get_IC_thetahat(X, Y, alpha):\n",
    "    n = len(Y)\n",
    "    t = get_students_quantile(n - rank(X), 1 - alpha / 2)\n",
    "    theta_hat = get_theta_hat(X, Y)\n",
    "    delta = [t * math.sqrt(get_sig2(X, Y)[0, 0] * inv(X.T@X)[i, i]) for i in range(0, rank(X))]\n",
    "    IC_low_pred = theta_hat - delta\n",
    "    IC_high_pred = theta_hat + delta\n",
    "    ICs = [[(theta_hat[i] - delta[i])[0, 0], (theta_hat[i] + delta[i])[0, 0]] for i in range(0, rank(X))]\n",
    "    return ICs\n",
    "\n",
    "\n",
    "alpha = 0.05\n",
    "print(\"IC_thetaHat[0, 1] @ alpha = \", alpha, \":\", get_IC_thetahat(X, Y, 0.05))"
   ]
  },
  {
   "cell_type": "markdown",
   "metadata": {
    "ein.tags": "worksheet-0",
    "slideshow": {
     "slide_type": "-"
    }
   },
   "source": [
    "## Verification avec le package statsmodels"
   ]
  },
  {
   "cell_type": "code",
   "execution_count": 9,
   "metadata": {
    "autoscroll": false,
    "ein.hycell": false,
    "ein.tags": "worksheet-0",
    "slideshow": {
     "slide_type": "-"
    }
   },
   "outputs": [
    {
     "name": "stdout",
     "output_type": "stream",
     "text": [
      "                            OLS Regression Results                            \n",
      "==============================================================================\n",
      "Dep. Variable:                      y   R-squared:                       0.963\n",
      "Model:                            OLS   Adj. R-squared:                  0.960\n",
      "Method:                 Least Squares   F-statistic:                     336.1\n",
      "Date:                Tue, 16 Oct 2018   Prob (F-statistic):           1.14e-10\n",
      "Time:                        21:19:40   Log-Likelihood:                 16.311\n",
      "No. Observations:                  15   AIC:                            -28.62\n",
      "Df Residuals:                      13   BIC:                            -27.21\n",
      "Df Model:                           1                                         \n",
      "Covariance Type:            nonrobust                                         \n",
      "==============================================================================\n",
      "                 coef    std err          t      P>|t|      [0.025      0.975]\n",
      "------------------------------------------------------------------------------\n",
      "const         -1.9636      0.410     -4.795      0.000      -2.848      -1.079\n",
      "x1             1.0153      0.055     18.332      0.000       0.896       1.135\n",
      "==============================================================================\n",
      "Omnibus:                        0.683   Durbin-Watson:                   1.343\n",
      "Prob(Omnibus):                  0.711   Jarque-Bera (JB):                0.597\n",
      "Skew:                          -0.412   Prob(JB):                        0.742\n",
      "Kurtosis:                       2.474   Cond. No.                         136.\n",
      "==============================================================================\n",
      "\n",
      "Warnings:\n",
      "[1] Standard Errors assume that the covariance matrix of the errors is correctly specified.\n"
     ]
    },
    {
     "name": "stderr",
     "output_type": "stream",
     "text": [
      "/home/thomas/.local/lib/python3.7/site-packages/scipy/stats/stats.py:1394: UserWarning: kurtosistest only valid for n>=20 ... continuing anyway, n=15\n",
      "  \"anyway, n=%i\" % int(n))\n"
     ]
    },
    {
     "data": {
      "text/plain": [
       "array([155.97942793])"
      ]
     },
     "execution_count": 9,
     "metadata": {},
     "output_type": "execute_result"
    }
   ],
   "source": [
    "import statsmodels.api as sm\n",
    "ols = sm.OLS(Y, X)\n",
    "ols_result = ols.fit()\n",
    "ols_result.bse\n",
    "print(ols_result.summary())\n",
    "pred = ols_result.predict([1, np.log(1000)])\n",
    "np.exp(pred)"
   ]
  },
  {
   "cell_type": "code",
   "execution_count": null,
   "metadata": {
    "autoscroll": false,
    "ein.hycell": false,
    "ein.tags": "worksheet-0",
    "slideshow": {
     "slide_type": "-"
    }
   },
   "outputs": [],
   "source": []
  },
  {
   "cell_type": "code",
   "execution_count": 10,
   "metadata": {
    "autoscroll": false,
    "ein.hycell": false,
    "ein.tags": "worksheet-0",
    "slideshow": {
     "slide_type": "-"
    }
   },
   "outputs": [
    {
     "data": {
      "image/png": "[encoded data removed]",
      "text/plain": [
       "<Figure size 576x576 with 1 Axes>"
      ]
     },
     "metadata": {
      "needs_background": "light"
     },
     "output_type": "display_data"
    }
   ],
   "source": [
    "gnp = df[\"gnp\"]\n",
    "yhat = get_Y_hat(X, get_theta_hat(X, Y))\n",
    "alpha = 0.1\n",
    "ICs = np.matrix([get_IC_ystar(np.matrix([1, X_tild[i]]).T, X, Y, alpha) for i in range(0, n)])\n",
    "IPs = np.matrix([get_IP_y(np.matrix([1, X_tild[i]]).T, X, Y, alpha) for i in range(0, n)])\n",
    "invest_plus_IC = ICs[:, 0]\n",
    "invest_minus_IC = ICs[:, 1]\n",
    "#invest_minus_IC = [X_tild[i] - get_IC_ystar(np.matrix([1, X_tild[i]]).T, X, Y, alpha) for i in range(0, n)]\n",
    "w = 8 # figure width\n",
    "plt.figure(figsize=(w, w))\n",
    "plt.plot(gnp, Y, color='blue', label='Yhat', marker='.', linestyle = 'None',)\n",
    "plt.plot(gnp, invest_plus_IC, color='green', label='IC+', ls=\"--\")\n",
    "plt.plot(gnp, invest_minus_IC, color='green', label='IC-', ls=\"--\")\n",
    "\n",
    "plt.plot(gnp, IPs[:, 0], color='red', label='IP-', ls=\":\")\n",
    "plt.plot(gnp, IPs[:, 1], color='red', label='IP+', ls=\":\")\n",
    "\n",
    "plt.plot(gnp, yhat, color='blue', label='Y')\n",
    "\n",
    "#plt.plot(gnp, invest_minus_IC, color='blue', label='Father')\n",
    "plt.ylabel('Invest', fontsize=18)\n",
    "plt.xlabel('GNP', fontsize=18)\n",
    "plt.title(\"GNP vs Invest\")\n",
    "\n",
    "x = np.matrix([[1, np.log(1000)]]).T\n",
    "ypred = get_ypred(x, X, Y)\n",
    "\n",
    "plt.legend()\n",
    "plt.plot(x[1], ypred, marker=\"o\")\n",
    "plt.show()"
   ]
  },
  {
   "cell_type": "code",
   "execution_count": null,
   "metadata": {
    "autoscroll": false,
    "ein.hycell": false,
    "ein.tags": "worksheet-0",
    "slideshow": {
     "slide_type": "-"
    }
   },
   "outputs": [],
   "source": []
  },
  {
   "cell_type": "code",
   "execution_count": null,
   "metadata": {
    "autoscroll": false,
    "ein.hycell": false,
    "ein.tags": "worksheet-0",
    "slideshow": {
     "slide_type": "-"
    }
   },
   "outputs": [],
   "source": []
  },
  {
   "cell_type": "code",
   "execution_count": null,
   "metadata": {
    "autoscroll": false,
    "ein.hycell": false,
    "ein.tags": "worksheet-0",
    "slideshow": {
     "slide_type": "-"
    }
   },
   "outputs": [],
   "source": []
  }
 ],
 "metadata": {
  "kernelspec": {
   "display_name": "Python 3",
   "language": "python",
   "name": "python3"
  },
  "language_info": {
   "codemirror_mode": {
    "name": "ipython",
    "version": 3
   },
   "file_extension": ".py",
   "mimetype": "text/x-python",
   "name": "python",
   "nbconvert_exporter": "python",
   "pygments_lexer": "ipython3",
   "version": "3.7.0"
  },
  "name": "TP2.ipynb"
 },
 "nbformat": 4,
 "nbformat_minor": 2
}
