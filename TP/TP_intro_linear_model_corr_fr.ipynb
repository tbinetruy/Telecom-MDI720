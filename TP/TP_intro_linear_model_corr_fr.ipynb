{
 "cells": [
  {
   "cell_type": "markdown",
   "metadata": {
    "ein.tags": "worksheet-0",
    "slideshow": {
     "slide_type": "-"
    }
   },
   "source": [
    "# Correction (Joseph Salmon)"
   ]
  },
  {
   "cell_type": "code",
   "execution_count": 1,
   "metadata": {
    "autoscroll": false,
    "ein.hycell": false,
    "ein.tags": "worksheet-0",
    "slideshow": {
     "slide_type": "-"
    }
   },
   "outputs": [
    {
     "ename": "ModuleNotFoundError",
     "evalue": "No module named 'seaborn'",
     "output_type": "error",
     "traceback": [
      "\u001b[0;31m---------------------------------------------------------------------------\u001b[0m",
      "\u001b[0;31mModuleNotFoundError\u001b[0m                       Traceback (most recent call last)",
      "\u001b[0;32m<ipython-input-1-76705b47b57b>\u001b[0m in \u001b[0;36m<module>\u001b[0;34m()\u001b[0m\n\u001b[1;32m      3\u001b[0m \u001b[0;32mimport\u001b[0m \u001b[0mmatplotlib\u001b[0m\u001b[0;34m.\u001b[0m\u001b[0mpyplot\u001b[0m \u001b[0;32mas\u001b[0m \u001b[0mplt\u001b[0m\u001b[0;34m\u001b[0m\u001b[0m\n\u001b[1;32m      4\u001b[0m \u001b[0;32mfrom\u001b[0m \u001b[0mmatplotlib\u001b[0m \u001b[0;32mimport\u001b[0m \u001b[0mrc\u001b[0m\u001b[0;34m\u001b[0m\u001b[0m\n\u001b[0;32m----> 5\u001b[0;31m \u001b[0;32mimport\u001b[0m \u001b[0mseaborn\u001b[0m \u001b[0;32mas\u001b[0m \u001b[0msns\u001b[0m\u001b[0;34m\u001b[0m\u001b[0m\n\u001b[0m\u001b[1;32m      6\u001b[0m \u001b[0;32mfrom\u001b[0m \u001b[0msklearn\u001b[0m \u001b[0;32mimport\u001b[0m \u001b[0mlinear_model\u001b[0m\u001b[0;34m\u001b[0m\u001b[0m\n\u001b[1;32m      7\u001b[0m \u001b[0;32mfrom\u001b[0m \u001b[0msklearn\u001b[0m\u001b[0;34m.\u001b[0m\u001b[0mpreprocessing\u001b[0m \u001b[0;32mimport\u001b[0m \u001b[0mStandardScaler\u001b[0m\u001b[0;34m\u001b[0m\u001b[0m\n",
      "\u001b[0;31mModuleNotFoundError\u001b[0m: No module named 'seaborn'"
     ]
    }
   ],
   "source": [
    "import numpy as np\n",
    "import pandas as pd\n",
    "import matplotlib.pyplot as plt\n",
    "from matplotlib import rc\n",
    "import seaborn as sns\n",
    "from sklearn import linear_model\n",
    "from sklearn.preprocessing import StandardScaler\n",
    "from statsmodels.nonparametric.kde import KDEUnivariate\n",
    "from scipy.stats import gaussian_kde\n",
    "import statsmodels.api as sm\n",
    "\n",
    "from sklearn import linear_model\n",
    "from sklearn.preprocessing import StandardScaler, PolynomialFeatures\n",
    "from numpy.linalg import svd\n",
    "\n",
    "from IPython.display import HTML\n",
    "from IPython.display import display\n",
    "\n",
    "%matplotlib inline\n",
    "# REM: LaTeX needs to be install on the machine for some\n",
    "#      display to be fined"
   ]
  },
  {
   "cell_type": "markdown",
   "metadata": {
    "ein.tags": "worksheet-0",
    "slideshow": {
     "slide_type": "-"
    }
   },
   "source": [
    "# Plot initialization"
   ]
  },
  {
   "cell_type": "code",
   "execution_count": 2,
   "metadata": {
    "autoscroll": false,
    "ein.hycell": false,
    "ein.tags": "worksheet-0",
    "slideshow": {
     "slide_type": "-"
    }
   },
   "outputs": [],
   "source": [
    "rc('font', **{'family': 'sans-serif', 'sans-serif': ['Computer Modern Roman']})\n",
    "params = {'axes.labelsize': 12,\n",
    "          'font.size': 12,\n",
    "          'legend.fontsize': 12,\n",
    "          'xtick.labelsize': 10,\n",
    "          'ytick.labelsize': 10,\n",
    "          'text.usetex': True,\n",
    "          'figure.figsize': (8, 6)}\n",
    "plt.rcParams.update(params)\n",
    "plt.close(\"all\")\n",
    "\n",
    "sns.set_palette(\"colorblind\")\n",
    "sns.axes_style()\n",
    "sns.set_style({'legend.frameon': True})\n",
    "color_blind_list = sns.color_palette(\"colorblind\", 8)\n",
    "my_orange = color_blind_list[2]\n",
    "my_green = color_blind_list[1]\n",
    "my_blue = color_blind_list[0]\n",
    "my_purple = color_blind_list[3]"
   ]
  },
  {
   "cell_type": "code",
   "execution_count": 3,
   "metadata": {
    "autoscroll": false,
    "ein.hycell": false,
    "ein.tags": "worksheet-0",
    "slideshow": {
     "slide_type": "-"
    }
   },
   "outputs": [],
   "source": [
    "plt.close(\"all\")"
   ]
  },
  {
   "cell_type": "markdown",
   "metadata": {
    "ein.tags": "worksheet-0",
    "slideshow": {
     "slide_type": "-"
    }
   },
   "source": [
    "# EXERCISE 1\n",
    "\n",
    "Le terme **régression** a été introduit par Sir Francis Galton (cousin de C. Darwin) alors qu'il étudiait la taille des individus au sein d'une descendance.\n",
    "Il tentait de comprendre pourquoi les grands individus d'une population semblaient avoir des enfants d'une taille plus petite, plus proche de la taille moyenne de la population; d'où l'introduction du terme \"régression\".\n",
    "\n",
    "Dans la suite on va s’intéresser aux données récoltées par Galton."
   ]
  },
  {
   "cell_type": "markdown",
   "metadata": {
    "ein.tags": "worksheet-0",
    "slideshow": {
     "slide_type": "-"
    }
   },
   "source": [
    "# Q1: Loading, cm and rounding\n",
    "Récupérer les données du fichier http://josephsalmon.eu/enseignement/TELECOM/MDI720/datasets/Galton.txt et les charger avec **Pandas**. On utilisera *read_csv* pour cela et on transformera les tailles en cm (pour cela on pourra consulter la description des données proposées en http://www.math.uah.edu/stat/data/Galton.html, en arrondissant sans chiffre après la virgule."
   ]
  },
  {
   "cell_type": "code",
   "execution_count": 4,
   "metadata": {
    "autoscroll": false,
    "ein.hycell": false,
    "ein.tags": "worksheet-0",
    "slideshow": {
     "slide_type": "-"
    }
   },
   "outputs": [
    {
     "data": {
      "text/html": [
       "<div>\n",
       "<style>\n",
       "    .dataframe thead tr:only-child th {\n",
       "        text-align: right;\n",
       "    }\n",
       "\n",
       "    .dataframe thead th {\n",
       "        text-align: left;\n",
       "    }\n",
       "\n",
       "    .dataframe tbody tr th {\n",
       "        vertical-align: top;\n",
       "    }\n",
       "</style>\n",
       "<table border=\"1\" class=\"dataframe\">\n",
       "  <thead>\n",
       "    <tr style=\"text-align: right;\">\n",
       "      <th></th>\n",
       "      <th>Family</th>\n",
       "      <th>Father</th>\n",
       "      <th>Mother</th>\n",
       "      <th>Gender</th>\n",
       "      <th>Height</th>\n",
       "      <th>Kids</th>\n",
       "    </tr>\n",
       "  </thead>\n",
       "  <tbody>\n",
       "    <tr>\n",
       "      <th>0</th>\n",
       "      <td>1</td>\n",
       "      <td>199</td>\n",
       "      <td>170</td>\n",
       "      <td>M</td>\n",
       "      <td>186</td>\n",
       "      <td>4</td>\n",
       "    </tr>\n",
       "    <tr>\n",
       "      <th>1</th>\n",
       "      <td>1</td>\n",
       "      <td>199</td>\n",
       "      <td>170</td>\n",
       "      <td>F</td>\n",
       "      <td>176</td>\n",
       "      <td>4</td>\n",
       "    </tr>\n",
       "    <tr>\n",
       "      <th>2</th>\n",
       "      <td>1</td>\n",
       "      <td>199</td>\n",
       "      <td>170</td>\n",
       "      <td>F</td>\n",
       "      <td>175</td>\n",
       "      <td>4</td>\n",
       "    </tr>\n",
       "    <tr>\n",
       "      <th>3</th>\n",
       "      <td>1</td>\n",
       "      <td>199</td>\n",
       "      <td>170</td>\n",
       "      <td>F</td>\n",
       "      <td>175</td>\n",
       "      <td>4</td>\n",
       "    </tr>\n",
       "    <tr>\n",
       "      <th>4</th>\n",
       "      <td>2</td>\n",
       "      <td>192</td>\n",
       "      <td>169</td>\n",
       "      <td>M</td>\n",
       "      <td>187</td>\n",
       "      <td>4</td>\n",
       "    </tr>\n",
       "  </tbody>\n",
       "</table>\n",
       "</div>"
      ],
      "text/plain": [
       "  Family  Father  Mother Gender  Height  Kids\n",
       "0      1     199     170      M     186     4\n",
       "1      1     199     170      F     176     4\n",
       "2      1     199     170      F     175     4\n",
       "3      1     199     170      F     175     4\n",
       "4      2     192     169      M     187     4"
      ]
     },
     "execution_count": 4,
     "metadata": {},
     "output_type": "execute_result"
    }
   ],
   "source": [
    "# Load data\n",
    "url = 'http://josephsalmon.eu/enseignement/TELECOM/MDI720/datasets/Galton.txt'\n",
    "df = pd.read_csv(url, sep='\\t')\n",
    "\n",
    "# Convert inches to cm\n",
    "df[['Father', 'Mother', 'Height']] = 2.54 * df[['Father', 'Mother', 'Height']]\n",
    "pd.set_option('precision', 0)\n",
    "df.head()\n",
    "# Alternative:\n",
    "# df.round({'Father': 0, 'Mother': 0, 'Height': 0})\n",
    "\n",
    "# BEWARE: the display option does not necessarily affect the underlying float\n",
    "# values so, depending on the choice performed, there might be a (tiny)\n",
    "# difference in the estimators obtained latter on..."
   ]
  },
  {
   "cell_type": "markdown",
   "metadata": {
    "ein.tags": "worksheet-0",
    "slideshow": {
     "slide_type": "-"
    }
   },
   "source": [
    "# Q2: Any Na in the dataframe?\n",
    "\n",
    "Combien de données manquantes y-t-il dans cette base de données ? Enlever si besoin les\n",
    "lignes ayant des données manquantes."
   ]
  },
  {
   "cell_type": "code",
   "execution_count": 5,
   "metadata": {
    "autoscroll": false,
    "ein.hycell": false,
    "ein.tags": "worksheet-0",
    "slideshow": {
     "slide_type": "-"
    }
   },
   "outputs": [
    {
     "name": "stdout",
     "output_type": "stream",
     "text": [
      "There are 0 total missing values.\n"
     ]
    }
   ],
   "source": [
    "null_data = df[df.isnull().any(axis=1)]\n",
    "print(\"There are \" + str(df.isnull().sum().sum()) +\n",
    "      ' total missing values.')"
   ]
  },
  {
   "cell_type": "markdown",
   "metadata": {
    "ein.tags": "worksheet-0",
    "slideshow": {
     "slide_type": "-"
    }
   },
   "source": [
    "__Conclusion__ : pas de données manquantes dans cette table."
   ]
  },
  {
   "cell_type": "markdown",
   "metadata": {
    "ein.tags": "worksheet-0",
    "slideshow": {
     "slide_type": "-"
    }
   },
   "source": [
    "# Q3: Plot height density for Mothers and Fathers\n",
    "Afficher sur un même graphe un estimateur de la densité de la population des pères en bleu, et de celles des mères en orange."
   ]
  },
  {
   "cell_type": "code",
   "execution_count": 6,
   "metadata": {
    "autoscroll": false,
    "ein.hycell": false,
    "ein.tags": "worksheet-0",
    "slideshow": {
     "slide_type": "-"
    }
   },
   "outputs": [
    {
     "data": {
      "image/png": "[encoded data removed]",
      "text/plain": [
       "<matplotlib.figure.Figure at 0x7fa898a41b00>"
      ]
     },
     "metadata": {},
     "output_type": "display_data"
    }
   ],
   "source": [
    "plt.figure()\n",
    "kde_father = KDEUnivariate(df['Father'])\n",
    "kde_father.fit(bw=2, kernel='gau')\n",
    "x_grid = np.linspace(140, 210)\n",
    "pdf_est_father = kde_father.evaluate(x_grid)\n",
    "\n",
    "kde_mother = KDEUnivariate(df['Mother'])\n",
    "kde_mother.fit(bw=2, kernel='gau')\n",
    "x_grid = np.linspace(140, 210)\n",
    "pdf_est_mother = kde_mother.evaluate(x_grid)\n",
    "\n",
    "plt.plot(x_grid, pdf_est_father, color=my_blue, label='Father')\n",
    "plt.fill_between(x_grid, 0, pdf_est_father, facecolor=my_blue, alpha=0.5)\n",
    "\n",
    "plt.plot(x_grid, pdf_est_mother, color=my_orange, label='Mother')\n",
    "plt.fill_between(x_grid, 0, pdf_est_mother, facecolor=my_orange, alpha=0.5)\n",
    "\n",
    "plt.ylabel('Density', fontsize=18)\n",
    "plt.xlabel('Height (in cm.)', fontsize=18)\n",
    "plt.title(\"Distribution of parents height (by gender)\")\n",
    "plt.legend()\n",
    "plt.show()"
   ]
  },
  {
   "cell_type": "code",
   "execution_count": 7,
   "metadata": {
    "autoscroll": false,
    "ein.hycell": false,
    "ein.tags": "worksheet-0",
    "slideshow": {
     "slide_type": "-"
    }
   },
   "outputs": [
    {
     "data": {
      "image/png": "[encoded data removed]",
      "text/plain": [
       "<matplotlib.figure.Figure at 0x7fa8956f3e48>"
      ]
     },
     "metadata": {},
     "output_type": "display_data"
    }
   ],
   "source": [
    "# Another possibility when the data has unique observations,\n",
    "# with gaussian_kde from scipy.stats\n",
    "\n",
    "father_unique = df['Father'].groupby(df['Family']).first()\n",
    "mother_unique = df['Mother'].groupby(df['Family']).first()\n",
    "\n",
    "plt.figure()\n",
    "kde_father = gaussian_kde(father_unique)\n",
    "x_grid = np.linspace(140, 210)\n",
    "pdf_est_father = kde_father(x_grid)\n",
    "\n",
    "kde_mother = gaussian_kde(mother_unique)\n",
    "x_grid = np.linspace(140, 210)\n",
    "pdf_est_mother = kde_mother(x_grid)\n",
    "\n",
    "plt.plot(x_grid, pdf_est_father, color=my_blue, label='Father')\n",
    "plt.fill_between(x_grid, 0, pdf_est_father, facecolor=my_blue, alpha=0.5)\n",
    "\n",
    "plt.plot(x_grid, pdf_est_mother, color=my_purple, label='Mother')\n",
    "plt.fill_between(x_grid, 0, pdf_est_mother, facecolor=my_orange, alpha=0.5)\n",
    "\n",
    "plt.ylabel('Density', fontsize=18)\n",
    "plt.xlabel('Height (in cm.)', fontsize=18)\n",
    "plt.title(\"Distribution of parents height (by gender)\")\n",
    "plt.legend()\n",
    "plt.show()"
   ]
  },
  {
   "cell_type": "markdown",
   "metadata": {
    "ein.tags": "worksheet-0",
    "slideshow": {
     "slide_type": "-"
    }
   },
   "source": [
    "# Q4: Plot Father height as a function of Mother height, with OLS prediction\n",
    "Afficher la taille du père en fonction de la taille de la mère pour les $n$ observations figurant dans les données. Ajouter la droite de prédiction obtenue par la méthode des moindres carrés (avec constante et sans centrage/normalisation)."
   ]
  },
  {
   "cell_type": "code",
   "execution_count": 8,
   "metadata": {
    "autoscroll": false,
    "ein.hycell": false,
    "ein.tags": "worksheet-0",
    "slideshow": {
     "slide_type": "-"
    }
   },
   "outputs": [
    {
     "data": {
      "image/png": "[encoded data removed]",
      "text/plain": [
       "<matplotlib.figure.Figure at 0x7fa898a41710>"
      ]
     },
     "metadata": {},
     "output_type": "display_data"
    },
    {
     "name": "stdout",
     "output_type": "stream",
     "text": [
      "0.00542647493462\n"
     ]
    }
   ],
   "source": [
    "plt.figure()\n",
    "y = df['Father']\n",
    "X = df[['Mother']]\n",
    "plt.plot(X, y, 'o',label=\"\")\n",
    "plt.ylabel('Father height', fontsize=18)\n",
    "plt.ylim([df['Father'].min()-1, df['Father'].max()+1])\n",
    "plt.xlim([df['Mother'].min()-1, df['Mother'].max()+1])\n",
    "plt.xlabel('Mother height', fontsize=18)\n",
    "skl_lm = linear_model.LinearRegression(fit_intercept=True)\n",
    "skl_lm.fit(X, y)\n",
    "plt.plot(x_grid, skl_lm.predict(x_grid.reshape(x_grid.shape[0], 1)), '-', label='Model prediction')\n",
    "plt.legend()\n",
    "plt.title(\"Father height w.r.t. Mother heigh (observed and predicted)\")\n",
    "plt.show()\n",
    "\n",
    "print(skl_lm.score(X, y))  # it is pretty small..."
   ]
  },
  {
   "cell_type": "markdown",
   "metadata": {
    "ein.tags": "worksheet-0",
    "slideshow": {
     "slide_type": "-"
    }
   },
   "source": [
    "# Q5: Distribution of the number of children by family \n",
    "Afficher un histogramme du nombre d'enfants par famille."
   ]
  },
  {
   "cell_type": "code",
   "execution_count": 9,
   "metadata": {
    "autoscroll": false,
    "ein.hycell": false,
    "ein.tags": "worksheet-0",
    "slideshow": {
     "slide_type": "-"
    }
   },
   "outputs": [
    {
     "data": {
      "image/png": "[encoded data removed]",
      "text/plain": [
       "<matplotlib.figure.Figure at 0x7fa894917860>"
      ]
     },
     "metadata": {},
     "output_type": "display_data"
    }
   ],
   "source": [
    "# second solution : normed=True\n",
    "groupby_family = df['Family'].groupby(df['Family']).count()\n",
    "plt.figure()\n",
    "plt.hist(groupby_family, bins=14, normed=True, rwidth=0.9)\n",
    "plt.xlim([0.5, 15.5])\n",
    "plt.xticks(np.arange(1,16))\n",
    "plt.xlabel('Number of children', fontsize=18)\n",
    "plt.ylabel('Density', fontsize=18)\n",
    "plt.title(\"Distribution of the number of children per family (frequency)\")\n",
    "plt.show()"
   ]
  },
  {
   "cell_type": "code",
   "execution_count": 10,
   "metadata": {
    "autoscroll": false,
    "ein.hycell": false,
    "ein.tags": "worksheet-0",
    "slideshow": {
     "slide_type": "-"
    }
   },
   "outputs": [
    {
     "name": "stdout",
     "output_type": "stream",
     "text": [
      "There are 197 families\n"
     ]
    },
    {
     "data": {
      "image/png": "[encoded data removed]",
      "text/plain": [
       "<matplotlib.figure.Figure at 0x7fa89489ed30>"
      ]
     },
     "metadata": {},
     "output_type": "display_data"
    }
   ],
   "source": [
    "# second solution : normed=False\n",
    "print(\"There are {} families\".format(len(df['Family'].unique())))\n",
    "groupby_family = df['Family'].groupby(df['Family']).count()\n",
    "plt.figure()\n",
    "plt.hist(groupby_family, bins=14, normed=False, rwidth=0.9)\n",
    "plt.xlim([0.5, 15.5])\n",
    "plt.xticks(np.arange(1,16))\n",
    "plt.xlabel('Number of children', fontsize=18)\n",
    "plt.ylabel(\"Count\", fontsize=18)\n",
    "plt.title(\"Distribution of the number of children per family (count)\")\n",
    "plt.show()"
   ]
  },
  {
   "cell_type": "markdown",
   "metadata": {
    "ein.tags": "worksheet-0",
    "slideshow": {
     "slide_type": "-"
    }
   },
   "source": [
    "# Q6: MidParents creation\n",
    "Créer une colonne supplémentaire appelée *'MidParents'* qui contient la taille du sorte de \"parent moyen\", et valant ('Father'+ 1.08 * 'Mother') / 2."
   ]
  },
  {
   "cell_type": "code",
   "execution_count": 11,
   "metadata": {
    "autoscroll": false,
    "ein.hycell": false,
    "ein.tags": "worksheet-0",
    "slideshow": {
     "slide_type": "-"
    }
   },
   "outputs": [],
   "source": [
    "df['MidParents'] = 0.5 * (df['Father'] + 1.08 * df['Mother'])"
   ]
  },
  {
   "cell_type": "markdown",
   "metadata": {
    "ein.tags": "worksheet-0",
    "slideshow": {
     "slide_type": "-"
    }
   },
   "source": [
    "REM: The factor 1.08 gives a rescaled women's height variable which has the same average as the men's height. Indeed, the ratio of the average men's height over the average women's height is "
   ]
  },
  {
   "cell_type": "code",
   "execution_count": 12,
   "metadata": {
    "autoscroll": false,
    "ein.hycell": false,
    "ein.tags": "worksheet-0",
    "slideshow": {
     "slide_type": "-"
    }
   },
   "outputs": [],
   "source": [
    "Ratio = np.mean(df['Father']) / np.mean(df['Mother'])"
   ]
  },
  {
   "cell_type": "code",
   "execution_count": 13,
   "metadata": {
    "autoscroll": false,
    "ein.hycell": false,
    "ein.tags": "worksheet-0",
    "slideshow": {
     "slide_type": "-"
    }
   },
   "outputs": [
    {
     "name": "stdout",
     "output_type": "stream",
     "text": [
      "1.0803384317037383\n"
     ]
    }
   ],
   "source": [
    "print(Ratio)"
   ]
  },
  {
   "cell_type": "markdown",
   "metadata": {
    "ein.tags": "worksheet-0",
    "slideshow": {
     "slide_type": "-"
    }
   },
   "source": [
    "Pour la $i^{ieme}$ observation, on note $x_i$ la taille du parent moyen et $y_i$ la taille de l'enfant. On se base sur le modèle linéaire suivant: $y_i = \\theta_0 + \\theta_1 x_i + \\varepsilon_i$ et on suppose que les variables $\\varepsilon_i$ sont centrées, indépendantes et de même variance $\\sigma^2$ inconnue."
   ]
  },
  {
   "cell_type": "markdown",
   "metadata": {
    "ein.tags": "worksheet-0",
    "slideshow": {
     "slide_type": "-"
    }
   },
   "source": [
    "# Q7: Regression MidParents vs kids\n",
    "Estimer $\\theta_0$, $\\theta_1$, par $\\hat{\\theta}_0$, $\\hat{\\theta}_1$ en utilisant la fonction **LinearRegression** de **sklearn**, puis vérifier numériquement (on pourra utiliser par exemple **np.isclose**)\n",
    "les formules vues en cours pour le cas unidimensionnel:\n",
    "\n",
    "$$\n",
    "\\hat\\theta_0= \\overline{y}_n -\\hat{\\theta}_1 \\overline{x}_n,\\qquad  \\hat\\theta_1=  \\displaystyle\\frac{ \\sum_{i=1}^n (x_i-\\overline{x}_n)(y_i -\\overline{y}_n)}{\\sum_{i=1}^n (x_i-\\overline{x}_n)^2} .\n",
    "$$"
   ]
  },
  {
   "cell_type": "markdown",
   "metadata": {
    "ein.tags": "worksheet-0",
    "slideshow": {
     "slide_type": "-"
    }
   },
   "source": [
    "On fera attention aux normalisations utilisées pour la variance qui peuvent changer selon les packages."
   ]
  },
  {
   "cell_type": "code",
   "execution_count": 14,
   "metadata": {
    "autoscroll": false,
    "ein.hycell": false,
    "ein.tags": "worksheet-0",
    "slideshow": {
     "slide_type": "-"
    }
   },
   "outputs": [
    {
     "name": "stdout",
     "output_type": "stream",
     "text": [
      "0.641190379591\n",
      "0.641190379591\n",
      "Are the two computations of theta1 the same? This is True and theta1=0.6411903795908169\n",
      "Are the two computations of theta0 the same? This is True, and theta0=56.83556243483079\n"
     ]
    }
   ],
   "source": [
    "X0 = df[['MidParents']]\n",
    "y = df['Height']\n",
    "skl_lm = linear_model.LinearRegression()\n",
    "skl_lm.fit(X0, y)\n",
    "theta0 = skl_lm.intercept_\n",
    "theta1 = skl_lm.coef_[0]\n",
    "y_mean = y.mean()\n",
    "X0_mean = (X0.mean(axis=0)).squeeze()\n",
    "X0_var = X0.var(ddof=0).squeeze()\n",
    "y_var = y.var(ddof=0)\n",
    "theta1_manual = ((X0.squeeze() - X0_mean) * (y - y_mean)).mean() / X0_var\n",
    "theta0_manual = y_mean - theta1_manual * X0_mean\n",
    "print(theta1)\n",
    "print(theta1_manual)\n",
    "\n",
    "print('Are the two computations of theta1' +\n",
    "      ' the same? This is {} and theta1={}'.format(np.isclose(theta1, theta1_manual),theta1))\n",
    "\n",
    "print('Are the two computations of theta0' +\n",
    "      ' the same? This is {}, and theta0={}'.format(np.isclose(theta0, theta0_manual),theta0))"
   ]
  },
  {
   "cell_type": "markdown",
   "metadata": {
    "ein.tags": "worksheet-0",
    "slideshow": {
     "slide_type": "-"
    }
   },
   "source": [
    "# Q8: Compute and display predictions with different colors by gender\n",
    "Calculer et visualiser les valeurs prédites $\\hat y_i = \\hat\\theta_0 + \\hat\\theta_1 x_i $ et les $y_i$ sur un même graphique. On affichera de deux couleurs différentes les garçons et les filles."
   ]
  },
  {
   "cell_type": "code",
   "execution_count": 15,
   "metadata": {
    "autoscroll": false,
    "ein.hycell": false,
    "ein.tags": "worksheet-0",
    "slideshow": {
     "slide_type": "-"
    }
   },
   "outputs": [
    {
     "data": {
      "image/png": "[encoded data removed]",
      "text/plain": [
       "<matplotlib.figure.Figure at 0x7fa8947bd048>"
      ]
     },
     "metadata": {},
     "output_type": "display_data"
    }
   ],
   "source": [
    "male = df['Gender'] == 'M'\n",
    "female = df['Gender'] == 'F'\n",
    "fig = plt.figure()\n",
    "plt.plot(df['MidParents'][male], y[male], 'o', c=my_blue, label=\"Male\")\n",
    "plt.plot(df['MidParents'][female], y[female], 'o', c=my_orange, label=\"Female\")\n",
    "plt.plot(X0, skl_lm.predict(X0), label='OLS prediction', c='k')\n",
    "plt.xlabel('MidParents', fontsize=18)\n",
    "plt.ylabel('Kids height', fontsize=18)\n",
    "plt.title(\"Kids Heigh by gender\")\n",
    "plt.legend()\n",
    "plt.show()"
   ]
  },
  {
   "cell_type": "markdown",
   "metadata": {
    "ein.tags": "worksheet-0",
    "slideshow": {
     "slide_type": "-"
    }
   },
   "source": [
    "# Q9: Residual density estimation\n",
    "\n",
    "Visualiser un estimateur de la densité des résidus $r_i = y_i -\\hat y_i$. L’hypothèse de normalité est-elle crédible selon vous? On ajoutera ensuite un estimateur par genre de la densité des résidus (en mettant un facteur proportionnel au nombre de personnes de chaque genre)."
   ]
  },
  {
   "cell_type": "code",
   "execution_count": 16,
   "metadata": {
    "autoscroll": false,
    "ein.hycell": false,
    "ein.tags": "worksheet-0",
    "slideshow": {
     "slide_type": "-"
    }
   },
   "outputs": [
    {
     "data": {
      "image/png": "[encoded data removed]",
      "text/plain": [
       "<matplotlib.figure.Figure at 0x7fa8992b1eb8>"
      ]
     },
     "metadata": {},
     "output_type": "display_data"
    }
   ],
   "source": [
    "nb_f = float(female.sum())\n",
    "nb_m = float(male.sum())\n",
    "alpha_f = nb_f / (nb_f + nb_m)\n",
    "alpha_m = nb_m / (nb_f + nb_m)\n",
    "\n",
    "plt.figure()\n",
    "residual = y - skl_lm.predict(X0)\n",
    "x_grid = np.linspace(-40, 30, num=300)\n",
    "plt.title('Residual Histogram/ KDE')\n",
    "plt.xlabel('Residual value')\n",
    "plt.ylabel('Frequency')\n",
    "\n",
    "kde_residual = KDEUnivariate(residual)\n",
    "kde_residual.fit(bw=2, kernel='gau')\n",
    "pdf_est_residual = kde_residual.evaluate(x_grid)\n",
    "plt.plot(x_grid, pdf_est_residual, color='k')\n",
    "plt.fill_between(x_grid, pdf_est_residual, alpha=0.1, color='k', label='All')\n",
    "\n",
    "\n",
    "kde_residual_m = KDEUnivariate(residual[male])\n",
    "kde_residual_m.fit(bw=2, kernel='gau')\n",
    "pdf_est_residual_m = kde_residual_m.evaluate(x_grid)\n",
    "plt.fill_between(x_grid, alpha_m * pdf_est_residual_m, color=my_blue, alpha=0.5,label='Male')\n",
    "\n",
    "\n",
    "kde_residual_f = KDEUnivariate(residual[female])\n",
    "kde_residual_f.fit(bw=2, kernel='gau')\n",
    "pdf_est_residual_f = kde_residual_f.evaluate(x_grid)\n",
    "plt.fill_between(x_grid, alpha_f * pdf_est_residual_f, color=my_orange, alpha=0.5,label='Female')\n",
    "\n",
    "\n",
    "plt.legend()\n",
    "plt.show()"
   ]
  },
  {
   "cell_type": "markdown",
   "metadata": {
    "ein.tags": "worksheet-0",
    "slideshow": {
     "slide_type": "-"
    }
   },
   "source": [
    "L’hypothèse de normalité globale des résidus n'est pas crédible (distribution bimodale). Cependant elle semble plus raisonnable si l'on fait l'étude séparement par genre."
   ]
  },
  {
   "cell_type": "markdown",
   "metadata": {
    "ein.tags": "worksheet-0",
    "slideshow": {
     "slide_type": "-"
    }
   },
   "source": [
    "# Q10 : Inverting the model\n",
    "Régresser cette fois les $x_i$ sur les $y_i$ (et non plus les $y_i$ sur les $x_i$). Comparer les coefficients $\\hat{\\alpha}_0$ et $\\hat{\\alpha}_1$  obtenus par rapport aux $\\hat{\\theta}_0$ et $\\hat{\\theta}_1$ du modèle original. Vérifier numériquement que:\n",
    "$$\n",
    "\\begin{cases}\n",
    "\\hat{\\alpha}_0=&\\bar{x}_n+\\displaystyle\\frac{\\bar{y}_n}{\\bar{x}_n}\\frac{var_n(x)}{var_n(y)}\n",
    "(\\hat{\\theta}_0-\\bar{y}_n), \\\\\n",
    "\\hat{\\alpha}_1=&\\frac{var_n(x)}{var_n(y)} \\hat{\\theta}_1 .\n",
    "\\end{cases}\n",
    "$$"
   ]
  },
  {
   "cell_type": "code",
   "execution_count": 17,
   "metadata": {
    "autoscroll": false,
    "ein.hycell": false,
    "ein.tags": "worksheet-0",
    "slideshow": {
     "slide_type": "-"
    }
   },
   "outputs": [
    {
     "name": "stdout",
     "output_type": "stream",
     "text": [
      "0.165038310213\n",
      "0.165038310213\n",
      "Are the two computations of alpha1 the same? This is True\n",
      "Are the two computations of alpha0 the same? This is True\n"
     ]
    }
   ],
   "source": [
    "skl_lm = linear_model.LinearRegression()\n",
    "skl_lm.fit(df[['Height']], df['MidParents'])\n",
    "alpha0 = skl_lm.intercept_\n",
    "alpha1 = skl_lm.coef_[0]\n",
    "alpha0_manual = X0_mean + y_mean / X0_mean * X0_var / y_var * (theta0 - y_mean)\n",
    "alpha1_manual = X0_var / y_var * theta1_manual\n",
    "print(alpha1)\n",
    "print(alpha1_manual)\n",
    "\n",
    "print('Are the two computations of alpha1' +\n",
    "      ' the same? This is {}'.format(np.isclose(alpha1, alpha1_manual)))\n",
    "\n",
    "print('Are the two computations of alpha0' +\n",
    "      ' the same? This is {}'.format(np.isclose(alpha0, alpha0_manual)))\n"
   ]
  },
  {
   "cell_type": "markdown",
   "metadata": {
    "ein.tags": "worksheet-0",
    "slideshow": {
     "slide_type": "-"
    }
   },
   "source": [
    "# EXERCISE 2\n",
    "\n",
    "\n",
    "\n",
    "On travaille dans cette partie sur le fichier **auto-mpg.data**.\n",
    "On cherche à régresser linéairement la consommation des voitures sur leurs caractéristiques: nombre de cylindres, cylindrées (*engine displacement* en anglais), puissance, poids, accélération, année, pays d'origine et le nom de la voiture.\n",
    "\n",
    "Le vecteur contenant la consommation des voitures (plus précisément la distance parcourue, en miles, pour un gallon, ou mpg) est noté $y$; les colonnes de $X$ sont les régresseurs quantitatifs, donc pour le moment on laisse de côté les variables *origin* et *car name*.\n",
    "\n"
   ]
  },
  {
   "cell_type": "markdown",
   "metadata": {
    "ein.tags": "worksheet-0",
    "slideshow": {
     "slide_type": "-"
    }
   },
   "source": [
    "# Q11: auto-mpg.data-original loading"
   ]
  },
  {
   "cell_type": "markdown",
   "metadata": {
    "ein.tags": "worksheet-0",
    "slideshow": {
     "slide_type": "-"
    }
   },
   "source": [
    "Importer avec **Pandas** la base de données disponible ici https://archive.ics.uci.edu/ml/machine-learning-databases/auto-mpg/auto-mpg.data-original.\n",
    "\n",
    "On ajoutera le nom des colonnes en consultant l'adresse:\n",
    "https://archive.ics.uci.edu/ml/machine-learning-databases/auto-mpg/auto-mpg.names avec l'attribut **'name'** de **read_csv**. On pourra regarder l’intérêt de l'option **sep=r\"\\s\\+\"** si besoin.\n",
    "\n",
    "Y a-t-il un marqueur utilisé pour les données manquantes dans le fichier utilisé? Si besoin, enlever les lignes possédant des valeurs manquantes dans la base de données."
   ]
  },
  {
   "cell_type": "code",
   "execution_count": 18,
   "metadata": {
    "autoscroll": false,
    "ein.hycell": false,
    "ein.tags": "worksheet-0",
    "slideshow": {
     "slide_type": "-"
    }
   },
   "outputs": [
    {
     "name": "stdout",
     "output_type": "stream",
     "text": [
      "The original dataset has 406 samples and 9 features\n"
     ]
    },
    {
     "data": {
      "text/html": [
       "<div>\n",
       "<style>\n",
       "    .dataframe thead tr:only-child th {\n",
       "        text-align: right;\n",
       "    }\n",
       "\n",
       "    .dataframe thead th {\n",
       "        text-align: left;\n",
       "    }\n",
       "\n",
       "    .dataframe tbody tr th {\n",
       "        vertical-align: top;\n",
       "    }\n",
       "</style>\n",
       "<table border=\"1\" class=\"dataframe\">\n",
       "  <thead>\n",
       "    <tr style=\"text-align: right;\">\n",
       "      <th></th>\n",
       "      <th>mpg</th>\n",
       "      <th>cylinders</th>\n",
       "      <th>displacement</th>\n",
       "      <th>horsepower</th>\n",
       "      <th>weight</th>\n",
       "      <th>acceleration</th>\n",
       "      <th>model_year</th>\n",
       "      <th>origin</th>\n",
       "      <th>car_name</th>\n",
       "    </tr>\n",
       "  </thead>\n",
       "  <tbody>\n",
       "    <tr>\n",
       "      <th>0</th>\n",
       "      <td>18</td>\n",
       "      <td>8</td>\n",
       "      <td>307</td>\n",
       "      <td>130</td>\n",
       "      <td>3,504</td>\n",
       "      <td>12</td>\n",
       "      <td>70</td>\n",
       "      <td>1USA</td>\n",
       "      <td>chevrolet chevelle malibu</td>\n",
       "    </tr>\n",
       "    <tr>\n",
       "      <th>1</th>\n",
       "      <td>15</td>\n",
       "      <td>8</td>\n",
       "      <td>350</td>\n",
       "      <td>165</td>\n",
       "      <td>3,693</td>\n",
       "      <td>12</td>\n",
       "      <td>70</td>\n",
       "      <td>1USA</td>\n",
       "      <td>buick skylark 320</td>\n",
       "    </tr>\n",
       "    <tr>\n",
       "      <th>2</th>\n",
       "      <td>18</td>\n",
       "      <td>8</td>\n",
       "      <td>318</td>\n",
       "      <td>150</td>\n",
       "      <td>3,436</td>\n",
       "      <td>11</td>\n",
       "      <td>70</td>\n",
       "      <td>1USA</td>\n",
       "      <td>plymouth satellite</td>\n",
       "    </tr>\n",
       "    <tr>\n",
       "      <th>3</th>\n",
       "      <td>16</td>\n",
       "      <td>8</td>\n",
       "      <td>304</td>\n",
       "      <td>150</td>\n",
       "      <td>3,433</td>\n",
       "      <td>12</td>\n",
       "      <td>70</td>\n",
       "      <td>1USA</td>\n",
       "      <td>amc rebel sst</td>\n",
       "    </tr>\n",
       "    <tr>\n",
       "      <th>4</th>\n",
       "      <td>17</td>\n",
       "      <td>8</td>\n",
       "      <td>302</td>\n",
       "      <td>140</td>\n",
       "      <td>3,449</td>\n",
       "      <td>10</td>\n",
       "      <td>70</td>\n",
       "      <td>1USA</td>\n",
       "      <td>ford torino</td>\n",
       "    </tr>\n",
       "  </tbody>\n",
       "</table>\n",
       "</div>"
      ],
      "text/plain": [
       "   mpg  cylinders  displacement  horsepower  weight  acceleration  model_year  \\\n",
       "0   18          8           307         130   3,504            12          70   \n",
       "1   15          8           350         165   3,693            12          70   \n",
       "2   18          8           318         150   3,436            11          70   \n",
       "3   16          8           304         150   3,433            12          70   \n",
       "4   17          8           302         140   3,449            10          70   \n",
       "\n",
       "  origin                   car_name  \n",
       "0   1USA  chevrolet chevelle malibu  \n",
       "1   1USA          buick skylark 320  \n",
       "2   1USA         plymouth satellite  \n",
       "3   1USA              amc rebel sst  \n",
       "4   1USA                ford torino  "
      ]
     },
     "execution_count": 18,
     "metadata": {},
     "output_type": "execute_result"
    }
   ],
   "source": [
    "# Load data\n",
    "# url = 'https://archive.ics.uci.edu/ml/machine-learning-databases/auto-mpg/' +\\\n",
    "#       'auto-mpg.data-original'\n",
    "\n",
    "# Alternative URL when UCI is down:\n",
    "url = 'http://josephsalmon.eu/enseignement/TELECOM/MDI720/datasets/auto-mpg.data-original'\n",
    "\n",
    "u_cols = ['mpg', 'cylinders', 'displacement', 'horsepower',\n",
    "          'weight', 'acceleration', 'model_year', 'origin', 'car_name']\n",
    "\n",
    "# To get correct display format\n",
    "pd.options.display.float_format = '{:,.0f}'.format\n",
    "\n",
    "\n",
    "# for this dataset na_values are marked as NA.\n",
    "data = pd.read_csv(url, sep=r\"\\s+\", names=u_cols, na_values='NA')\n",
    "n_samples_ini = data.shape[0]\n",
    "print(\"The original dataset has {} samples and {} features\".format(\n",
    "    data.shape[0], data.shape[1]))\n",
    "\n",
    "# Remove NA:\n",
    "data = data.dropna(axis=0, how='any')\n",
    "n_samples = data.shape[0]\n",
    "data.head()\n",
    "\n",
    "# To get origin with meaningful names\n",
    "origins = data['origin'].astype(str)\n",
    "origins = origins.str.replace('1.0', '1USA')\n",
    "origins = origins.str.replace('2.0', '2Europe')\n",
    "origins = origins.str.replace('3.0', '3Japan')\n",
    "data['origin'] = origins\n",
    "data.head()"
   ]
  },
  {
   "cell_type": "code",
   "execution_count": 19,
   "metadata": {
    "autoscroll": false,
    "ein.hycell": false,
    "ein.tags": "worksheet-0",
    "slideshow": {
     "slide_type": "-"
    }
   },
   "outputs": [
    {
     "name": "stdout",
     "output_type": "stream",
     "text": [
      "There are 14 missing values (NA).\n"
     ]
    }
   ],
   "source": [
    "print(\"There are {} missing values (NA).\".format(n_samples_ini - n_samples))"
   ]
  },
  {
   "cell_type": "markdown",
   "metadata": {
    "ein.tags": "worksheet-0",
    "slideshow": {
     "slide_type": "-"
    }
   },
   "source": [
    "# Q12: OLS over a subset of the dataset\n",
    "\n",
    "Calculer l'estimateur des moindres carrés (avec ordonnée à l'origine) $\\hat\\theta$ et sa prédiction $\\hat{y}$ sur une sous partie de la base obtenue en gardant les $9$ premières lignes. Que constatez-vous pour les variables **cylinders** et **model year**?"
   ]
  },
  {
   "cell_type": "code",
   "execution_count": 20,
   "metadata": {
    "autoscroll": false,
    "ein.hycell": false,
    "ein.tags": "worksheet-0",
    "slideshow": {
     "slide_type": "-"
    }
   },
   "outputs": [
    {
     "name": "stdout",
     "output_type": "stream",
     "text": [
      "Index(['cylinders', 'displacement', 'horsepower', 'weight', 'acceleration',\n",
      "       'model_year'],\n",
      "      dtype='object')\n",
      "[ 0.          0.05408848 -0.0945306  -0.00424074 -0.19936701  0.        ]\n",
      "30.7716953656\n"
     ]
    }
   ],
   "source": [
    "y = data['mpg']\n",
    "# data.drop(['mpg'], axis=1)\n",
    "X_partial = data.drop(['origin', 'car_name', 'mpg'], axis=1)\n",
    "\n",
    "# Fit regression model (with sklearn) degenerate case\n",
    "skl_linmod = linear_model.LinearRegression()\n",
    "skl_linmod.fit(X_partial[:9], y[:9])\n",
    "\n",
    "print(X_partial.columns)\n",
    "print(skl_linmod.coef_)\n",
    "print(skl_linmod.intercept_)"
   ]
  },
  {
   "cell_type": "markdown",
   "metadata": {
    "ein.tags": "worksheet-0",
    "slideshow": {
     "slide_type": "-"
    }
   },
   "source": [
    "Les coefficients des variables **cylinders** et **model year** sont nuls. Ceci est étrange, et vient du fait que le modèle est mal specifié. En effet, pour cette sous-partie de la base les colonnes de ces deux variables sont constantes et sont donc redondantes avec la colonnes constantes."
   ]
  },
  {
   "cell_type": "markdown",
   "metadata": {
    "ein.tags": "worksheet-0",
    "slideshow": {
     "slide_type": "-"
    }
   },
   "source": [
    "# Q13: OLS over a full dataset after rescaling/centering\n",
    "\n",
    "Calculer $\\hat\\theta$ et $\\hat y$ cette fois sur l'intégralité des données, après les avoir centrées et réduites. Quelles sont les deux variables qui expliquent le plus la consommation d'un véhicule selon vous?"
   ]
  },
  {
   "cell_type": "code",
   "execution_count": 21,
   "metadata": {
    "autoscroll": false,
    "ein.hycell": false,
    "ein.tags": "worksheet-0",
    "slideshow": {
     "slide_type": "-"
    }
   },
   "outputs": [
    {
     "name": "stdout",
     "output_type": "stream",
     "text": [
      "Index(['cylinders', 'displacement', 'horsepower', 'weight', 'acceleration',\n",
      "       'model_year'],\n",
      "      dtype='object')\n",
      "[-0.56194996  0.80247616 -0.0150445  -5.76399971  0.23495704  2.77166415]\n",
      "Index(['model_year', 'weight'], dtype='object')\n"
     ]
    }
   ],
   "source": [
    "# Fit regression model (with sklearn)\n",
    "skl_linmod = linear_model.LinearRegression()\n",
    "scaler = StandardScaler().fit(X_partial)\n",
    "X = scaler.transform(X_partial)\n",
    "skl_linmod.fit(X, y)\n",
    "\n",
    "print(X_partial.columns)\n",
    "print(skl_linmod.coef_)\n",
    "# print(skl_linmod.intercept_)\n",
    "ranked_variables = np.argsort(np.abs(skl_linmod.coef_))\n",
    "print(X_partial.columns[ranked_variables[-2:]])"
   ]
  },
  {
   "cell_type": "markdown",
   "metadata": {
    "ein.tags": "worksheet-0",
    "slideshow": {
     "slide_type": "-"
    }
   },
   "source": [
    "Les deux variables qui semblent les plus explicative de la consomation (d'après l'amplitudes de leurs coefficients de régression) sont l'ancienneté (**model year**) et le poids (**weight**) de la voiture."
   ]
  },
  {
   "cell_type": "markdown",
   "metadata": {
    "ein.tags": "worksheet-0",
    "slideshow": {
     "slide_type": "-"
    }
   },
   "source": [
    "# Q14: Residual\n",
    "\n",
    "Calculer $\\|r\\|^2$ (le carré de la norme du vecteur des résidus),\n",
    " puis $\\|r\\|^2/(n-p)$. Vérifier numériquement que:\n",
    " \n",
    "\\begin{equation*}\n",
    " \\| y - \\bar{y}_n\\mathbf{1}_n\\|^2=\\|r\\|^2 +\\| \\hat{y} - \\bar{y}_n \\mathbf{1}_n\\|^2.\n",
    "\\end{equation*}\n"
   ]
  },
  {
   "cell_type": "code",
   "execution_count": 22,
   "metadata": {
    "autoscroll": false,
    "ein.hycell": false,
    "ein.tags": "worksheet-0",
    "slideshow": {
     "slide_type": "-"
    }
   },
   "outputs": [
    {
     "name": "stdout",
     "output_type": "stream",
     "text": [
      "True\n",
      "23818.9934694\n"
     ]
    }
   ],
   "source": [
    "residual = skl_linmod.predict(X) - y\n",
    "term_1 = np.linalg.norm(y - np.mean(y)) ** 2\n",
    "term_2 = np.linalg.norm(residual) ** 2\n",
    "term_3 = np.linalg.norm(skl_linmod.predict(X) - np.mean(y)) ** 2\n",
    "print(np.isclose(term_1, term_2 + term_3))\n",
    "print(term_1)"
   ]
  },
  {
   "cell_type": "markdown",
   "metadata": {
    "ein.tags": "worksheet-0",
    "slideshow": {
     "slide_type": "-"
    }
   },
   "source": [
    "# Q15: New observation\n",
    "\n",
    "Supposons que l'on vous fournisse les caractéristiques suivantes d'un nouveau véhicule :\n",
    "\n",
    "| cylinders  | displacement| horsepower | weight  | acceleration  |year|\n",
    "|---|---|---|---|---|---|\n",
    "| 6  | 225 | 100  | 3233  |15.4| 76\n",
    "\n",
    "Prédire sa consommation (pour information, la consommation effectivement mesurée sur cet exemple était de 22 mpg)."
   ]
  },
  {
   "cell_type": "code",
   "execution_count": 23,
   "metadata": {
    "autoscroll": false,
    "ein.hycell": false,
    "ein.tags": "worksheet-0",
    "slideshow": {
     "slide_type": "-"
    }
   },
   "outputs": [
    {
     "name": "stdout",
     "output_type": "stream",
     "text": [
      "The consumption predicted is 21.776220182609453 mpg.\n",
      "This is 1.017% away from the proposed value.\n"
     ]
    }
   ],
   "source": [
    "X_new = np.array([[6, 225, 100, 3233, 15.4, 76]])\n",
    "prediction_new = skl_linmod.predict(scaler.transform(X_new))[0]\n",
    "print(\"The consumption predicted is {} mpg.\".format(prediction_new))\n",
    "print(\"This is {:.4}% away from the proposed value.\".format(\n",
    "    (100 - (prediction_new / 22. * 100))))"
   ]
  },
  {
   "cell_type": "markdown",
   "metadata": {
    "ein.tags": "worksheet-0",
    "slideshow": {
     "slide_type": "-"
    }
   },
   "source": []
  },
  {
   "cell_type": "markdown",
   "metadata": {
    "ein.tags": "worksheet-0",
    "slideshow": {
     "slide_type": "-"
    }
   },
   "source": [
    "# Q16: Polynomial features.\n",
    "\n",
    "Utiliser la transformation **PolynomialFeatures** de **sklearn** sur les données brutes, pour ajuster un modèle d'ordre deux (avec les termes d'interactions: **interaction_only=False**). On normalisera et recentrera après avoir créé les nouvelles variables explicatives. Quelle est alors la variable la plus explicative de la consomation?"
   ]
  },
  {
   "cell_type": "code",
   "execution_count": 24,
   "metadata": {
    "autoscroll": false,
    "ein.hycell": false,
    "ein.tags": "worksheet-0",
    "slideshow": {
     "slide_type": "-"
    }
   },
   "outputs": [
    {
     "name": "stdout",
     "output_type": "stream",
     "text": [
      "['cylinders', 'displacement', 'horsepower', 'weight', 'acceleration', 'model_year', 'cylinders^2', 'cylinders displacement', 'cylinders horsepower', 'cylinders weight', 'cylinders acceleration', 'cylinders model_year', 'displacement^2', 'displacement horsepower', 'displacement weight', 'displacement acceleration', 'displacement model_year', 'horsepower^2', 'horsepower weight', 'horsepower acceleration', 'horsepower model_year', 'weight^2', 'weight acceleration', 'weight model_year', 'acceleration^2', 'acceleration model_year', 'model_year^2']\n",
      "[ 13.34357536 -48.43391341   5.15417707  17.47091667 -16.05072528\n",
      " -26.88104821  -8.13486673  -2.94736774  11.95174218   5.33737455\n",
      "   4.87668634 -16.22928128   1.29969118   3.38005168   5.2047413\n",
      "  -3.29326443  43.68431432  -3.59171565  -6.15116573  -2.38675585\n",
      "  -4.85057027   3.15822997   0.84918913 -25.11606269   1.99403567\n",
      "  13.91361302  29.84851135]\n",
      "23.4459183673\n"
     ]
    }
   ],
   "source": [
    "poly = PolynomialFeatures(2, interaction_only=False, include_bias=False)\n",
    "poly.fit(X_partial)\n",
    "XX = poly.transform(X_partial) \n",
    "all_names = poly.get_feature_names(X_partial.columns)\n",
    "\n",
    "scalerXX = StandardScaler().fit(XX)\n",
    "XX = scalerXX.transform(XX)\n",
    "skl_linmod.fit(XX, y)\n",
    "print(all_names)\n",
    "print(skl_linmod.coef_)\n",
    "print(skl_linmod.intercept_)"
   ]
  },
  {
   "cell_type": "code",
   "execution_count": 25,
   "metadata": {
    "autoscroll": false,
    "ein.hycell": false,
    "ein.tags": "worksheet-0",
    "slideshow": {
     "slide_type": "-"
    }
   },
   "outputs": [
    {
     "name": "stdout",
     "output_type": "stream",
     "text": [
      "['displacement', 'displacement model_year', 'model_year^2', 'model_year', 'weight model_year', 'weight', 'cylinders model_year', 'acceleration', 'acceleration model_year', 'cylinders', 'cylinders horsepower', 'cylinders^2', 'horsepower weight', 'cylinders weight', 'displacement weight', 'horsepower', 'cylinders acceleration', 'horsepower model_year', 'horsepower^2', 'displacement horsepower', 'displacement acceleration', 'weight^2', 'cylinders displacement', 'horsepower acceleration', 'acceleration^2', 'displacement^2', 'weight acceleration']\n"
     ]
    }
   ],
   "source": [
    "rank_variables = np.argsort(np.abs(skl_linmod.coef_))[::-1]\n",
    "print([all_names[i] for i in rank_variables])"
   ]
  },
  {
   "cell_type": "markdown",
   "metadata": {
    "ein.tags": "worksheet-0",
    "slideshow": {
     "slide_type": "-"
    }
   },
   "source": [
    "Cette fois la variable la plus pertinente semble être \"displacement\". C'est un paradoxe classique: en ajoutant de nouvelles variables (ici les produits de variables), il se peut que le classement par ordre d'influence des variables (mesuré par l'amplitude des coefficients) change. Ce problème est partiellement résolu par sélection de variables."
   ]
  },
  {
   "cell_type": "code",
   "execution_count": 26,
   "metadata": {
    "autoscroll": false,
    "ein.hycell": false,
    "ein.tags": "worksheet-0",
    "slideshow": {
     "slide_type": "-"
    }
   },
   "outputs": [],
   "source": [
    "# BEWARE: it might lead to different interpretation if one perform the steps:\n",
    "# 1) center/rescale the design matrix\n",
    "# 2) create the interaction features\n",
    "# 3) center/rescale the new design matrix\n",
    "# or\n",
    "# 1) create the interaction features\n",
    "# 2) center/rescale the new design matrix.\n",
    "# The most reasonable is to rather proceed as proposed above (ie 2nd choice)"
   ]
  },
  {
   "cell_type": "markdown",
   "metadata": {
    "ein.tags": "worksheet-0",
    "slideshow": {
     "slide_type": "-"
    }
   },
   "source": [
    "# Q 17: Handling origins\n",
    "\n",
    "On revient ici au modèle sans interactions. Proposer une manière de gérer la variable\"origin\" par exemple avec **pd.get_dummies**. On ajustera un modèle linéaire sans constante dans ce cas. Déterminer laquelle des trois origines est la plus efficace en terme de consommation (Pour info, 1 = usa; 2 = europe; 3 = japan)."
   ]
  },
  {
   "cell_type": "code",
   "execution_count": 27,
   "metadata": {
    "autoscroll": false,
    "ein.hycell": false,
    "ein.tags": "worksheet-0",
    "slideshow": {
     "slide_type": "-"
    }
   },
   "outputs": [
    {
     "name": "stdout",
     "output_type": "stream",
     "text": [
      "Index(['origin_1USA', 'origin_2Europe', 'origin_3Japan'], dtype='object')\n",
      "[-17.95460207 -15.32459971 -15.10137384]\n"
     ]
    }
   ],
   "source": [
    "# Solution 1: all origins, no intercpet, no rescalling.\n",
    "X_origin1 = data.copy().drop(['car_name', 'mpg'], axis=1)\n",
    "X_origin1 = pd.get_dummies(X_origin1, columns=['origin'])\n",
    "\n",
    "scaler = StandardScaler(with_mean=False,with_std=False).fit(X_origin1)\n",
    "Z1 = scaler.transform(X_origin1)\n",
    "\n",
    "skl_linmod1 = linear_model.LinearRegression(fit_intercept=False)\n",
    "skl_linmod1.fit(Z1, y)\n",
    "\n",
    "print(X_origin1.columns[6:])\n",
    "print(skl_linmod1.coef_[6:])"
   ]
  },
  {
   "cell_type": "markdown",
   "metadata": {
    "ein.tags": "worksheet-0",
    "slideshow": {
     "slide_type": "-"
    }
   },
   "source": [
    "**Conclusion**: Result sugest that Japan is the most efficient, then come Europe, and USA is far behind."
   ]
  },
  {
   "cell_type": "code",
   "execution_count": 28,
   "metadata": {
    "autoscroll": false,
    "ein.hycell": false,
    "ein.tags": "worksheet-0",
    "slideshow": {
     "slide_type": "-"
    }
   },
   "outputs": [
    {
     "name": "stdout",
     "output_type": "stream",
     "text": [
      "Index(['cylinders', 'displacement', 'horsepower', 'weight', 'acceleration',\n",
      "       'model_year', 'origin_2Europe', 'origin_3Japan'],\n",
      "      dtype='object')\n",
      "[ 2.63000236  2.85322823]\n"
     ]
    }
   ],
   "source": [
    "# Solution 2: removing USA, and considering an intercpet\n",
    "X_origin2 = data.copy().drop(['car_name', 'mpg'], axis=1)\n",
    "X_origin2 = pd.get_dummies(X_origin2, columns=['origin'],drop_first=True)\n",
    "\n",
    "scaler = StandardScaler(with_mean=False,with_std=False).fit(X_origin2)\n",
    "Z2 = scaler.transform(X_origin2)\n",
    "\n",
    "skl_linmod2 = linear_model.LinearRegression(fit_intercept=True)\n",
    "skl_linmod2.fit(Z2, y)\n",
    "\n",
    "print(X_origin2.columns[:])\n",
    "print(skl_linmod2.coef_[6:])"
   ]
  },
  {
   "cell_type": "code",
   "execution_count": 29,
   "metadata": {
    "autoscroll": false,
    "ein.hycell": false,
    "ein.tags": "worksheet-0",
    "slideshow": {
     "slide_type": "-"
    }
   },
   "outputs": [
    {
     "name": "stdout",
     "output_type": "stream",
     "text": [
      "True\n"
     ]
    }
   ],
   "source": [
    "# Testing link between models:\n",
    "Europe_cst = skl_linmod2.intercept_\n",
    "testing_coef = np.concatenate(\n",
    "    [skl_linmod2.coef_[:6],  [Europe_cst], skl_linmod2.coef_[6:] + Europe_cst])\n",
    "print(np.allclose(testing_coef, skl_linmod1.coef_))"
   ]
  },
  {
   "cell_type": "markdown",
   "metadata": {
    "collapsed": true,
    "ein.tags": "worksheet-0",
    "slideshow": {
     "slide_type": "-"
    }
   },
   "source": [
    "**Conclusion**: Japon is still the most efficent then w.r.t. Europe (positive coefficient), and USA is less efficient than Europe (negative coefficient)."
   ]
  },
  {
   "cell_type": "code",
   "execution_count": 30,
   "metadata": {
    "autoscroll": false,
    "ein.hycell": false,
    "ein.tags": "worksheet-0",
    "slideshow": {
     "slide_type": "-"
    }
   },
   "outputs": [
    {
     "name": "stdout",
     "output_type": "stream",
     "text": [
      "1USA       245\n",
      "3Japan      79\n",
      "2Europe     68\n",
      "Name: origin, dtype: int64\n",
      "Index(['origin_1USA', 'origin_2Europe', 'origin_3Japan'], dtype='object')\n",
      "[-8.69223435 -5.80269887 -6.05781639]\n",
      "[-0.83427197  2.50601874 -0.69900932 -5.69254264  0.21795599  2.85870923\n",
      " -8.69223435 -5.80269887 -6.05781639]\n"
     ]
    }
   ],
   "source": [
    "# Solution 3: normalizing all columns implies that a post-processing is needed:\n",
    "# to get meaningfull coefficient, scaling is required!\n",
    "origines_count = data['origin'].value_counts()\n",
    "print(origines_count)\n",
    "\n",
    "X_origin3 = data.copy().drop(['car_name', 'mpg'], axis=1)\n",
    "X_origin3 = pd.get_dummies(X_origin3, columns=['origin'], drop_first=False)\n",
    "\n",
    "scaler = StandardScaler(with_mean=False, with_std=True).fit(X_origin3)\n",
    "Z3 = scaler.transform(X_origin3)\n",
    "\n",
    "skl_linmod3 = linear_model.LinearRegression(fit_intercept=False)\n",
    "skl_linmod3.fit(Z3, y)\n",
    "\n",
    "print(X_origin3.columns[6:])\n",
    "print(skl_linmod3.coef_[6:])\n",
    "print(skl_linmod3.coef_)"
   ]
  },
  {
   "cell_type": "markdown",
   "metadata": {
    "ein.tags": "worksheet-0",
    "slideshow": {
     "slide_type": "-"
    }
   },
   "source": [
    "Beware: the result above wrongly suggests Europe is the best. But this is a scaling issue:"
   ]
  },
  {
   "cell_type": "code",
   "execution_count": 31,
   "metadata": {
    "autoscroll": false,
    "ein.hycell": false,
    "ein.tags": "worksheet-0",
    "slideshow": {
     "slide_type": "-"
    }
   },
   "outputs": [
    {
     "name": "stdout",
     "output_type": "stream",
     "text": [
      "[-17.95460207 -15.32459971 -15.10137384]\n",
      "True\n",
      "[ 0.48412292  0.37865256  0.4011434 ]\n"
     ]
    }
   ],
   "source": [
    "print(skl_linmod3.coef_[6:] / scaler.scale_[6:])\n",
    "print(np.allclose(skl_linmod3.coef_ / scaler.scale_, skl_linmod1.coef_))\n",
    "\n",
    "# Europe has more variability : because it has fewer samples\n",
    "print(scaler.scale_[6:])"
   ]
  },
  {
   "cell_type": "markdown",
   "metadata": {
    "ein.tags": "worksheet-0",
    "slideshow": {
     "slide_type": "-"
    }
   },
   "source": [
    "**Conclusion**: we recover the same conclusion after a careful normalisation..."
   ]
  },
  {
   "cell_type": "code",
   "execution_count": 32,
   "metadata": {
    "autoscroll": false,
    "ein.hycell": false,
    "ein.tags": "worksheet-0",
    "slideshow": {
     "slide_type": "-"
    }
   },
   "outputs": [
    {
     "name": "stdout",
     "output_type": "stream",
     "text": [
      "Index(['cylinders', 'displacement', 'horsepower', 'weight', 'acceleration',\n",
      "       'model_year', 'origin_1USA', 'origin_2Europe', 'origin_3Japan'],\n",
      "      dtype='object')\n",
      "[ -1.52447816   3.13312444  -1.32642763 -10.24277927   0.80537819\n",
      "  15.00512974  -3.83896851  -3.32972233  -3.22628516]\n"
     ]
    }
   ],
   "source": [
    "# best is to check t-statistics NOT the coefficients themselves:\n",
    "# cf. William H. Greene, Econometric analysis, Prentice Hall (2003), page 79, 4-14\n",
    "# cf. http://josephsalmon.eu/enseignement/TELECOM/MDI720/IntroTests_fr.pdf\n",
    "\n",
    "results = sm.OLS(y, Z1).fit()\n",
    "print(X_origin1.columns[:])\n",
    "print(results.tvalues.values)"
   ]
  },
  {
   "cell_type": "markdown",
   "metadata": {
    "ein.tags": "worksheet-0",
    "slideshow": {
     "slide_type": "-"
    }
   },
   "source": [
    "**Conclusion**: the order is still Japan>Europe>USA"
   ]
  },
  {
   "cell_type": "markdown",
   "metadata": {
    "ein.tags": "worksheet-0",
    "slideshow": {
     "slide_type": "-"
    }
   },
   "source": [
    "# Q18: Handling brands with some text processing\n",
    "\n",
    "Procéder de même cette fois en fonction de la marque de la voiture.\n",
    "On pourra utiliser **str.split** et **str.replace** pour créer une nouvelle variable **'brand'**."
   ]
  },
  {
   "cell_type": "code",
   "execution_count": 33,
   "metadata": {
    "autoscroll": false,
    "ein.hycell": false,
    "ein.tags": "worksheet-0",
    "slideshow": {
     "slide_type": "-"
    }
   },
   "outputs": [
    {
     "name": "stdout",
     "output_type": "stream",
     "text": [
      "Number of cars per brand:\n",
      "ford          49\n",
      "chevrolet     47\n",
      "chrysler      34\n",
      "plymouth      31\n",
      "amc           27\n",
      "toyota        26\n",
      "nissan        24\n",
      "vw            22\n",
      "buick         17\n",
      "pontiac       16\n",
      "honda         13\n",
      "mazda         12\n",
      "mercury       11\n",
      "oldsmobile    10\n",
      "fiat           8\n",
      "peugeot        8\n",
      "audi           7\n",
      "volvo          6\n",
      "opel           4\n",
      "subaru         4\n",
      "saab           4\n",
      "renault        3\n",
      "mercedes       3\n",
      "bmw            2\n",
      "cadillac       2\n",
      "triumph        1\n",
      "hi             1\n",
      "Name: brand, dtype: int64\n",
      "\n",
      "Brands by increasing coefficients:\n",
      "Index(['brand_amc', 'brand_mercury', 'brand_ford', 'brand_buick',\n",
      "       'brand_chevrolet', 'brand_volvo', 'brand_chrysler', 'brand_opel',\n",
      "       'brand_bmw', 'brand_oldsmobile', 'brand_plymouth', 'brand_pontiac',\n",
      "       'brand_mazda', 'brand_saab', 'brand_subaru', 'brand_toyota',\n",
      "       'brand_peugeot', 'brand_cadillac', 'brand_audi', 'brand_renault',\n",
      "       'brand_hi', 'brand_mercedes', 'brand_fiat', 'brand_vw', 'brand_honda',\n",
      "       'brand_nissan', 'brand_triumph'],\n",
      "      dtype='object')\n",
      "[-15.8448334  -15.37441593 -15.08920332 -14.50317471 -14.48617161\n",
      " -14.25639745 -14.04276501 -13.5846621  -13.58250469 -13.33139153\n",
      " -13.07055588 -12.88460789 -12.69522852 -12.54530737 -12.46089461\n",
      " -12.42248327 -12.19739697 -11.78508034 -11.74517299 -11.49121929\n",
      " -11.28489187 -11.20006111 -11.10051666 -10.98287058 -10.73670551\n",
      " -10.08042111  -7.31920326]\n"
     ]
    }
   ],
   "source": [
    "car_names = data['car_name']\n",
    "brands = pd.Series(car_names.str.split().str.get(0))\n",
    "\n",
    "\n",
    "# A bit of cleaning:\n",
    "brands = brands.str.replace('volkswagen', 'vw', case=False)\n",
    "brands = brands.str.replace('vokswagen', 'vw', case=False)\n",
    "brands = brands.str.replace('toyouta', 'toyota', case=False)\n",
    "brands = brands.str.replace('maxda', 'mazda', case=False)\n",
    "brands = brands.str.replace('chevy', 'chevrolet', case=False)\n",
    "brands = brands.str.replace('chevroelt', 'chevrolet', case=False)\n",
    "brands = brands.str.replace('mercedes-benz', 'mercedes', case=False)\n",
    "brands = brands.str.replace('capri', 'ford', case=False)\n",
    "brands = brands.str.replace('datsun', 'nissan', case=False)\n",
    "brands = brands.str.replace('dodge', 'chrysler', case=False)\n",
    "\n",
    "\n",
    "data['brand'] = pd.Series(brands)\n",
    "X_brand = data.drop(['car_name', 'mpg', 'origin'], axis=1)\n",
    "X_brand = pd.get_dummies(X_brand, columns=['brand'], drop_first=False)\n",
    "\n",
    "# NOTE: the first in alphabetical order is amc: if drop_first=True, that's the one removed.\n",
    "print(\"Number of cars per brand:\")\n",
    "print(data['brand'].value_counts())\n",
    "\n",
    "\n",
    "scaler = StandardScaler(with_mean=False, with_std=False).fit(X_brand)\n",
    "X_brand_scaled = scaler.transform(X_brand)\n",
    "\n",
    "skl_linmod = linear_model.LinearRegression(fit_intercept=False)\n",
    "skl_linmod.fit(X_brand_scaled, y)\n",
    "\n",
    "# sort by negative influence over the coefficients:\n",
    "brands = X_brand.columns[6:]\n",
    "coef_brands = skl_linmod.coef_[6:]\n",
    "rank_variables = np.argsort(coef_brands)\n",
    "\n",
    "print(\"\")\n",
    "print(\"Brands by increasing coefficients:\")\n",
    "print(brands[rank_variables])\n",
    "print(coef_brands[rank_variables])"
   ]
  },
  {
   "cell_type": "code",
   "execution_count": 34,
   "metadata": {
    "autoscroll": false,
    "ein.hycell": false,
    "ein.tags": "worksheet-0",
    "slideshow": {
     "slide_type": "-"
    }
   },
   "outputs": [
    {
     "name": "stdout",
     "output_type": "stream",
     "text": [
      "Index(['brand_amc', 'brand_ford', 'brand_mercury', 'brand_chevrolet',\n",
      "       'brand_buick', 'brand_volvo', 'brand_chrysler', 'brand_opel',\n",
      "       'brand_plymouth', 'brand_bmw', 'brand_oldsmobile', 'brand_pontiac',\n",
      "       'brand_toyota', 'brand_mazda', 'brand_saab', 'brand_peugeot',\n",
      "       'brand_subaru', 'brand_audi', 'brand_fiat', 'brand_vw', 'brand_renault',\n",
      "       'brand_honda', 'brand_mercedes', 'brand_cadillac', 'brand_nissan',\n",
      "       'brand_hi', 'brand_triumph'],\n",
      "      dtype='object')\n",
      "[-3.24363016 -3.0706495  -3.04164157 -2.93096041 -2.84541389 -2.8103812\n",
      " -2.80314176 -2.7449872  -2.66925169 -2.57678996 -2.56807667 -2.56645127\n",
      " -2.5293144  -2.52610382 -2.45373763 -2.40481246 -2.39941372 -2.35765008\n",
      " -2.29523846 -2.24301229 -2.23016877 -2.14972989 -2.08367061 -2.07656736\n",
      " -2.02414966 -1.80671684 -1.23027746]\n"
     ]
    }
   ],
   "source": [
    "# Sorted by negative influence over the tvalues:\n",
    "\n",
    "results = sm.OLS(y, X_brand_scaled).fit()\n",
    "brands = X_brand.columns[6:]\n",
    "ttest_brands = results.tvalues.values[6:]\n",
    "rank_variables = np.argsort(ttest_brands)\n",
    "\n",
    "print(brands[rank_variables])\n",
    "print(ttest_brands[rank_variables])"
   ]
  },
  {
   "cell_type": "markdown",
   "metadata": {
    "ein.tags": "worksheet-0",
    "slideshow": {
     "slide_type": "-"
    }
   },
   "source": [
    "The most favorable influence is from the **triumph** brand, but the worst is coming from **amc**."
   ]
  },
  {
   "cell_type": "code",
   "execution_count": 35,
   "metadata": {
    "autoscroll": false,
    "ein.hycell": false,
    "ein.tags": "worksheet-0",
    "slideshow": {
     "slide_type": "-"
    }
   },
   "outputs": [
    {
     "name": "stdout",
     "output_type": "stream",
     "text": [
      "If the hi car's brand was amc, \n",
      " then instead of 9.0, the its consumption would be 4.44\n",
      "If the hi car's brand was audi, \n",
      " then instead of 9.0, the its consumption would be 8.54\n",
      "If the hi car's brand was bmw, \n",
      " then instead of 9.0, the its consumption would be 6.702\n",
      "If the hi car's brand was buick, \n",
      " then instead of 9.0, the its consumption would be 5.782\n",
      "If the hi car's brand was cadillac, \n",
      " then instead of 9.0, the its consumption would be 8.5\n",
      "If the hi car's brand was chevrolet, \n",
      " then instead of 9.0, the its consumption would be 5.799\n",
      "If the hi car's brand was chrysler, \n",
      " then instead of 9.0, the its consumption would be 6.242\n",
      "If the hi car's brand was fiat, \n",
      " then instead of 9.0, the its consumption would be 9.184\n",
      "If the hi car's brand was ford, \n",
      " then instead of 9.0, the its consumption would be 5.196\n",
      "If the hi car's brand was hi, \n",
      " then instead of 9.0, the its consumption would be 9.0\n",
      "If the hi car's brand was honda, \n",
      " then instead of 9.0, the its consumption would be 9.548\n",
      "If the hi car's brand was mazda, \n",
      " then instead of 9.0, the its consumption would be 7.59\n",
      "If the hi car's brand was mercedes, \n",
      " then instead of 9.0, the its consumption would be 9.085\n",
      "If the hi car's brand was mercury, \n",
      " then instead of 9.0, the its consumption would be 4.91\n",
      "If the hi car's brand was nissan, \n",
      " then instead of 9.0, the its consumption would be 10.2\n",
      "If the hi car's brand was oldsmobile, \n",
      " then instead of 9.0, the its consumption would be 6.954\n",
      "If the hi car's brand was opel, \n",
      " then instead of 9.0, the its consumption would be 6.7\n",
      "If the hi car's brand was peugeot, \n",
      " then instead of 9.0, the its consumption would be 8.087\n",
      "If the hi car's brand was plymouth, \n",
      " then instead of 9.0, the its consumption would be 7.214\n",
      "If the hi car's brand was pontiac, \n",
      " then instead of 9.0, the its consumption would be 7.4\n",
      "If the hi car's brand was renault, \n",
      " then instead of 9.0, the its consumption would be 8.794\n",
      "If the hi car's brand was saab, \n",
      " then instead of 9.0, the its consumption would be 7.74\n",
      "If the hi car's brand was subaru, \n",
      " then instead of 9.0, the its consumption would be 7.824\n",
      "If the hi car's brand was toyota, \n",
      " then instead of 9.0, the its consumption would be 7.862\n",
      "If the hi car's brand was triumph, \n",
      " then instead of 9.0, the its consumption would be 12.97\n",
      "If the hi car's brand was volvo, \n",
      " then instead of 9.0, the its consumption would be 6.028\n",
      "If the hi car's brand was vw, \n",
      " then instead of 9.0, the its consumption would be 9.302\n"
     ]
    }
   ],
   "source": [
    "# Illustration of what would be the prediction for one car if the brand\n",
    "# was substituted by another one. This will illustrate that the Triumph\n",
    "# \"would\" make a more efficient car that any other brand for the car\n",
    "# considered.\n",
    "\n",
    "brands_df = pd.Series(brands, name=\"brands\").str.replace('brand_', '', case=False)\n",
    "for  i, brand_name in enumerate(brands_df):\n",
    "    X_to_pred = X_brand_scaled[28].copy()\n",
    "    X_to_pred[6 + 9] = 0.\n",
    "    X_to_pred[6 + i] = 1.\n",
    "\n",
    "    print(\"If the hi car's brand was {}, \\n then instead of {}, the its consumption would be {:.4}\".format(brand_name, y.iloc[28],\n",
    "    skl_linmod.predict(X_to_pred.reshape(1, -1))[0]))"
   ]
  },
  {
   "cell_type": "markdown",
   "metadata": {
    "ein.tags": "worksheet-0",
    "slideshow": {
     "slide_type": "-"
    }
   },
   "source": [
    "Pour aller plus loin : https://perso.univ-rennes1.fr/bernard.delyon/regression.pdf ( I.2.8 Traitement des variables catégorielles)"
   ]
  },
  {
   "cell_type": "markdown",
   "metadata": {
    "ein.tags": "worksheet-0",
    "slideshow": {
     "slide_type": "-"
    }
   },
   "source": [
    "# Q19\n",
    "Reprendre la matrice $X$ obtenue sans variables catégorielles. Obtenez numériquement la SVD (partielle) de $X = U S V^\\top$ (par exemple en considérant l'option **full_matrices=False**); vérifier numériquement que $H = U U^\\top $ est une projection orthogonale (on admettra si besoin que c'est la matrice chapeau, H, vue en cours)."
   ]
  },
  {
   "cell_type": "code",
   "execution_count": 36,
   "metadata": {
    "autoscroll": false,
    "ein.hycell": false,
    "ein.tags": "worksheet-0",
    "slideshow": {
     "slide_type": "-"
    }
   },
   "outputs": [
    {
     "name": "stdout",
     "output_type": "stream",
     "text": [
      "True\n",
      "True\n"
     ]
    }
   ],
   "source": [
    "# TODO: TO improve and may be give a standard threshold as in Delyon ...\n",
    "U, s, V = svd(X, full_matrices=False)\n",
    "proj_mat = np.dot(U, U.T)\n",
    "print(np.allclose(proj_mat.dot(proj_mat), proj_mat))\n",
    "print(np.allclose(proj_mat.T, proj_mat))\n",
    "\n",
    "# Rem: Note that the centering/rescaling step does not modify the leverage.\n",
    "\n",
    "leverage = np.diag(proj_mat)\n",
    "data['leverage'] = leverage"
   ]
  },
  {
   "cell_type": "markdown",
   "metadata": {
    "ein.tags": "worksheet-0",
    "slideshow": {
     "slide_type": "-"
    }
   },
   "source": [
    "# Q20:\n",
    "La diagonale de la matrice $H$, forme le vecteur des \"leviers\", qu'on ajoutera comme nouvelle variable. Trier la base de données en fonction de cette variable, et expliquer en quoi les voitures ayant les trois valeurs de \"levier\" les plus grandes semblent atypiques."
   ]
  },
  {
   "cell_type": "code",
   "execution_count": 37,
   "metadata": {
    "autoscroll": false,
    "ein.hycell": false,
    "ein.tags": "worksheet-0",
    "slideshow": {
     "slide_type": "-"
    }
   },
   "outputs": [
    {
     "data": {
      "text/html": [
       "<table border=\"1\" class=\"dataframe\">\n",
       "  <thead>\n",
       "    <tr style=\"text-align: right;\">\n",
       "      <th></th>\n",
       "      <th>mpg</th>\n",
       "      <th>cylinders</th>\n",
       "      <th>displacement</th>\n",
       "      <th>horsepower</th>\n",
       "      <th>weight</th>\n",
       "      <th>acceleration</th>\n",
       "      <th>model_year</th>\n",
       "      <th>leverage</th>\n",
       "    </tr>\n",
       "  </thead>\n",
       "  <tbody>\n",
       "    <tr>\n",
       "      <th>count</th>\n",
       "      <td>392</td>\n",
       "      <td>392</td>\n",
       "      <td>392</td>\n",
       "      <td>392</td>\n",
       "      <td>392</td>\n",
       "      <td>392</td>\n",
       "      <td>392</td>\n",
       "      <td>392.000</td>\n",
       "    </tr>\n",
       "    <tr>\n",
       "      <th>mean</th>\n",
       "      <td>23</td>\n",
       "      <td>5</td>\n",
       "      <td>194</td>\n",
       "      <td>104</td>\n",
       "      <td>2,978</td>\n",
       "      <td>16</td>\n",
       "      <td>76</td>\n",
       "      <td>0.015</td>\n",
       "    </tr>\n",
       "    <tr>\n",
       "      <th>std</th>\n",
       "      <td>8</td>\n",
       "      <td>2</td>\n",
       "      <td>105</td>\n",
       "      <td>38</td>\n",
       "      <td>849</td>\n",
       "      <td>3</td>\n",
       "      <td>4</td>\n",
       "      <td>0.014</td>\n",
       "    </tr>\n",
       "    <tr>\n",
       "      <th>min</th>\n",
       "      <td>9</td>\n",
       "      <td>3</td>\n",
       "      <td>68</td>\n",
       "      <td>46</td>\n",
       "      <td>1,613</td>\n",
       "      <td>8</td>\n",
       "      <td>70</td>\n",
       "      <td>0.002</td>\n",
       "    </tr>\n",
       "    <tr>\n",
       "      <th>25%</th>\n",
       "      <td>17</td>\n",
       "      <td>4</td>\n",
       "      <td>105</td>\n",
       "      <td>75</td>\n",
       "      <td>2,225</td>\n",
       "      <td>14</td>\n",
       "      <td>73</td>\n",
       "      <td>0.008</td>\n",
       "    </tr>\n",
       "    <tr>\n",
       "      <th>50%</th>\n",
       "      <td>23</td>\n",
       "      <td>4</td>\n",
       "      <td>151</td>\n",
       "      <td>94</td>\n",
       "      <td>2,804</td>\n",
       "      <td>16</td>\n",
       "      <td>76</td>\n",
       "      <td>0.012</td>\n",
       "    </tr>\n",
       "    <tr>\n",
       "      <th>75%</th>\n",
       "      <td>29</td>\n",
       "      <td>8</td>\n",
       "      <td>276</td>\n",
       "      <td>126</td>\n",
       "      <td>3,615</td>\n",
       "      <td>17</td>\n",
       "      <td>79</td>\n",
       "      <td>0.018</td>\n",
       "    </tr>\n",
       "    <tr>\n",
       "      <th>max</th>\n",
       "      <td>47</td>\n",
       "      <td>8</td>\n",
       "      <td>455</td>\n",
       "      <td>230</td>\n",
       "      <td>5,140</td>\n",
       "      <td>25</td>\n",
       "      <td>82</td>\n",
       "      <td>0.187</td>\n",
       "    </tr>\n",
       "  </tbody>\n",
       "</table>"
      ],
      "text/plain": [
       "<IPython.core.display.HTML object>"
      ]
     },
     "metadata": {},
     "output_type": "display_data"
    },
    {
     "data": {
      "text/html": [
       "<table border=\"1\" class=\"dataframe\">\n",
       "  <thead>\n",
       "    <tr style=\"text-align: right;\">\n",
       "      <th></th>\n",
       "      <th>mpg</th>\n",
       "      <th>cylinders</th>\n",
       "      <th>displacement</th>\n",
       "      <th>horsepower</th>\n",
       "      <th>weight</th>\n",
       "      <th>acceleration</th>\n",
       "      <th>model_year</th>\n",
       "      <th>origin</th>\n",
       "      <th>car_name</th>\n",
       "      <th>brand</th>\n",
       "      <th>leverage</th>\n",
       "    </tr>\n",
       "  </thead>\n",
       "  <tbody>\n",
       "    <tr>\n",
       "      <th>19</th>\n",
       "      <td>14</td>\n",
       "      <td>8</td>\n",
       "      <td>455</td>\n",
       "      <td>225</td>\n",
       "      <td>3,086</td>\n",
       "      <td>10</td>\n",
       "      <td>70</td>\n",
       "      <td>1USA</td>\n",
       "      <td>buick estate wagon (sw)</td>\n",
       "      <td>buick</td>\n",
       "      <td>0.187</td>\n",
       "    </tr>\n",
       "    <tr>\n",
       "      <th>34</th>\n",
       "      <td>9</td>\n",
       "      <td>8</td>\n",
       "      <td>304</td>\n",
       "      <td>193</td>\n",
       "      <td>4,732</td>\n",
       "      <td>18</td>\n",
       "      <td>70</td>\n",
       "      <td>1USA</td>\n",
       "      <td>hi 1200d</td>\n",
       "      <td>hi</td>\n",
       "      <td>0.085</td>\n",
       "    </tr>\n",
       "    <tr>\n",
       "      <th>32</th>\n",
       "      <td>10</td>\n",
       "      <td>8</td>\n",
       "      <td>307</td>\n",
       "      <td>200</td>\n",
       "      <td>4,376</td>\n",
       "      <td>15</td>\n",
       "      <td>70</td>\n",
       "      <td>1USA</td>\n",
       "      <td>chevy c20</td>\n",
       "      <td>chevrolet</td>\n",
       "      <td>0.062</td>\n",
       "    </tr>\n",
       "    <tr>\n",
       "      <th>33</th>\n",
       "      <td>11</td>\n",
       "      <td>8</td>\n",
       "      <td>318</td>\n",
       "      <td>210</td>\n",
       "      <td>4,382</td>\n",
       "      <td>14</td>\n",
       "      <td>70</td>\n",
       "      <td>1USA</td>\n",
       "      <td>dodge d200</td>\n",
       "      <td>chrysler</td>\n",
       "      <td>0.061</td>\n",
       "    </tr>\n",
       "    <tr>\n",
       "      <th>8</th>\n",
       "      <td>14</td>\n",
       "      <td>8</td>\n",
       "      <td>455</td>\n",
       "      <td>225</td>\n",
       "      <td>4,425</td>\n",
       "      <td>10</td>\n",
       "      <td>70</td>\n",
       "      <td>1USA</td>\n",
       "      <td>pontiac catalina</td>\n",
       "      <td>pontiac</td>\n",
       "      <td>0.059</td>\n",
       "    </tr>\n",
       "    <tr>\n",
       "      <th>307</th>\n",
       "      <td>24</td>\n",
       "      <td>8</td>\n",
       "      <td>260</td>\n",
       "      <td>90</td>\n",
       "      <td>3,420</td>\n",
       "      <td>22</td>\n",
       "      <td>79</td>\n",
       "      <td>1USA</td>\n",
       "      <td>oldsmobile cutlass salon brougham</td>\n",
       "      <td>oldsmobile</td>\n",
       "      <td>0.055</td>\n",
       "    </tr>\n",
       "  </tbody>\n",
       "</table>"
      ],
      "text/plain": [
       "<IPython.core.display.HTML object>"
      ]
     },
     "metadata": {},
     "output_type": "display_data"
    }
   ],
   "source": [
    "data = data.sort_values(['leverage'], ascending=False)\n",
    "display(HTML(data.describe().to_html(formatters={'leverage': '{:,.3f}'.format})))\n",
    "display(HTML(data.head(6).to_html(formatters={'leverage': '{:,.3f}'.format})))"
   ]
  },
  {
   "cell_type": "markdown",
   "metadata": {
    "ein.tags": "worksheet-0",
    "slideshow": {
     "slide_type": "-"
    }
   },
   "source": [
    "Conclusion:\n",
    "- L'observation de levier maximum a des valeurs extrêmes pour: 'cylinders', 'displacement' et 'model_year'\n",
    "- L'observation de deuxième levier maximum a des valeurs extrêmes pour: 'cylinders', 'weight', 'acceleration', 'horsepower' et 'model_year'\n",
    "- L'observation de deuxième levier maximum a des valeurs extrêmes pour: 'cylinders', 'horsepower', 'weight' and 'model_year'"
   ]
  },
  {
   "cell_type": "code",
   "execution_count": 38,
   "metadata": {
    "autoscroll": false,
    "ein.hycell": false,
    "ein.tags": "worksheet-0",
    "slideshow": {
     "slide_type": "-"
    }
   },
   "outputs": [
    {
     "data": {
      "image/png": "[encoded data removed]",
      "text/plain": [
       "<matplotlib.figure.Figure at 0x7fa894675eb8>"
      ]
     },
     "metadata": {},
     "output_type": "display_data"
    }
   ],
   "source": [
    "# Bonus:  visualisation of the leverage points with empirical cut-off for \"large\" leverage points\n",
    "threshold = 2.5 * (float(X.shape[1] + 1) / float(X.shape[0]))\n",
    "\n",
    "plt.figure()\n",
    "plt.plot(np.arange(X.shape[0]), leverage, label=\"Leverage\")\n",
    "plt.plot(np.arange(X.shape[0]), threshold * np.ones(X.shape[0]), label=\"threshold\")\n",
    "plt.legend()\n",
    "plt.title(\"Leverage points with empirical cut-off\")\n",
    "plt.show()"
   ]
  }
 ],
 "metadata": {
  "kernelspec": {
   "display_name": "Python 3",
   "language": "python",
   "name": "python3"
  },
  "language_info": {
   "codemirror_mode": {
    "name": "ipython",
    "version": 3
   },
   "file_extension": ".py",
   "mimetype": "text/x-python",
   "name": "python",
   "nbconvert_exporter": "python",
   "pygments_lexer": "ipython3",
   "version": "3.7.0"
  },
  "name": "TP_intro_linear_model_corr_fr.ipynb"
 },
 "nbformat": 4,
 "nbformat_minor": 2
}
